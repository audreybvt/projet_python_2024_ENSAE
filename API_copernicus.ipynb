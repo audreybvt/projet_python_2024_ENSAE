{
 "cells": [
  {
   "cell_type": "markdown",
   "metadata": {},
   "source": [
    "# Constitution du cloud MinIO Client \n",
    "\n",
    "Le fichier diffusion du cloud MinIO Client est composé :\n",
    "- du fichier 'cds_data' qui regroupe les données issues du modèle de projection CMIP6 mis à disposition par le Climate Data Store de Copernicus \n",
    "- du fichier 'puffin_data' \n",
    "\n",
    "Ce notebook a pour objectif de centraliser les requêtes API réalisées pour obtenir les données climatiques issues du modèle prédictif CMIP6 et leur écriture sur le cloud ainsi que l'écriture des données relatives aux macaraux moines(Atlantic puffins en anglais)."
   ]
  },
  {
   "cell_type": "markdown",
   "metadata": {},
   "source": [
    "## API - Climate Data Store"
   ]
  },
  {
   "cell_type": "code",
   "execution_count": 9,
   "metadata": {},
   "outputs": [],
   "source": [
    "import cdsapi\n",
    "import pandas as pd\n",
    "import s3fs\n",
    "import zipfile\n",
    "import xarray as xr\n",
    "import dotenv\n",
    "import os\n",
    "\n",
    "\n",
    "# 1. Définir les chemins dynamiques dans un sous-dossier \"data/\"\n",
    "data_dir = \"./data\"  # Sous-dossier pour centraliser les données\n",
    "os.makedirs(data_dir, exist_ok=True)  # Crée le dossier s'il n'existe pas\n",
    "temp_dir = os.path.join(data_dir, \"extracted_files\") # Sous-dossier d'extraction des fichiers zip\n",
    "os.makedirs(temp_dir, exist_ok=True)  # Crée le dossier d'extraction"
   ]
  },
  {
   "cell_type": "markdown",
   "metadata": {},
   "source": [
    "#### Sécurisation des codes d'accès de l'API CDS dans un fichier .env"
   ]
  },
  {
   "cell_type": "code",
   "execution_count": 4,
   "metadata": {},
   "outputs": [
    {
     "name": "stdout",
     "output_type": "stream",
     "text": [
      "Le fichier .cdsapirc a été créé à : /home/onyxia/.cdsapirc\n"
     ]
    }
   ],
   "source": [
    "from dotenv import load_dotenv\n",
    "\n",
    "# Charger les variables depuis le fichier .env\n",
    "load_dotenv()\n",
    "\n",
    "# Récupérer les variables d'environnement\n",
    "cdsapi_url = os.getenv(\"cdsapi_url\")\n",
    "cdsapi_key = os.getenv(\"cdsapi_key\")\n",
    "\n",
    "# Construire le chemin vers le fichier .cdsapirc dans le répertoire utilisateur\n",
    "home_dir = os.path.expanduser(\"~\")\n",
    "file_path = os.path.join(home_dir, \".cdsapirc\")\n",
    "\n",
    "# Écrire le fichier .cdsapirc avec les variables\n",
    "with open(file_path, 'w') as file:\n",
    "    file.write(f\"\"\"\n",
    "    url: {cdsapi_url}\n",
    "    key: {cdsapi_key}\n",
    "\"\"\")\n",
    "print(f\"Le fichier .cdsapirc a été créé à : {file_path}\")\n"
   ]
  },
  {
   "cell_type": "markdown",
   "metadata": {},
   "source": [
    "### API CDS n°1 \n",
    "Modèle : hadgem3_gc31_ll (UK)\n",
    "Données : historiques [1950 - 2014] \n",
    "Localisation : îles Vestmann (Islande)\n",
    "Variable : Sea Surface Temperature"
   ]
  },
  {
   "cell_type": "markdown",
   "metadata": {},
   "source": [
    "#### Requête API \n",
    "Utilisation du module \"cdsapi\" développé par le Climate Data Store et écriture du fichier de téléchargement dans le sous-dossier 'data'"
   ]
  },
  {
   "cell_type": "code",
   "execution_count": 8,
   "metadata": {},
   "outputs": [
    {
     "name": "stderr",
     "output_type": "stream",
     "text": [
      "2024-12-17 10:33:45,244 INFO Request ID is e110e359-9be4-4df7-84a5-8e8bd9ac03ab\n",
      "2024-12-17 10:33:45,810 INFO status has been updated to accepted\n",
      "2024-12-17 10:33:51,672 INFO status has been updated to running\n",
      "2024-12-17 10:33:55,113 INFO status has been updated to successful\n",
      "                                                                                          \r"
     ]
    },
    {
     "data": {
      "text/plain": [
       "'./data/cds_output_vestmann.zip'"
      ]
     },
     "execution_count": 8,
     "metadata": {},
     "output_type": "execute_result"
    }
   ],
   "source": [
    "dataset = \"projections-cmip6\"\n",
    "request = {\n",
    "    \"temporal_resolution\": \"monthly\",\n",
    "    \"experiment\": \"historical\",\n",
    "    \"variable\": \"sea_surface_temperature\",\n",
    "    \"model\": \"hadgem3_gc31_ll\",\n",
    "    \"year\": [\n",
    "        \"1950\", \"1951\", \"1952\",\n",
    "        \"1953\", \"1954\", \"1955\",\n",
    "        \"1956\", \"1957\", \"1958\",\n",
    "        \"1959\", \"1960\", \"1961\",\n",
    "        \"1962\", \"1963\", \"1964\",\n",
    "        \"1965\", \"1966\", \"1967\",\n",
    "        \"1968\", \"1969\", \"1970\",\n",
    "        \"1971\", \"1972\", \"1973\",\n",
    "        \"1974\", \"1975\", \"1976\",\n",
    "        \"1977\", \"1978\", \"1979\",\n",
    "        \"1980\", \"1981\", \"1982\",\n",
    "        \"1983\", \"1984\", \"1985\",\n",
    "        \"1986\", \"1987\", \"1988\",\n",
    "        \"1989\", \"1990\", \"1991\",\n",
    "        \"1992\", \"1993\", \"1994\",\n",
    "        \"1995\", \"1996\", \"1997\",\n",
    "        \"1998\", \"1999\", \"2000\",\n",
    "        \"2001\", \"2002\", \"2003\",\n",
    "        \"2004\", \"2005\", \"2006\",\n",
    "        \"2007\", \"2008\", \"2009\",\n",
    "        \"2010\", \"2011\", \"2012\",\n",
    "        \"2013\", \"2014\"\n",
    "    ],\n",
    "    \"month\": [\n",
    "        \"01\", \"02\", \"03\",\n",
    "        \"04\", \"05\", \"06\",\n",
    "        \"07\", \"08\", \"09\",\n",
    "        \"10\", \"11\", \"12\"\n",
    "    ],\n",
    "    \"area\": [63.5, 20.5, 63.3, 20.1],  # Zone : Nord, Ouest, Sud, Est\n",
    "}\n",
    "\n",
    "\n",
    "final_zip_path = os.path.join(data_dir, \"cds_output_vestmann.zip\")\n",
    "client.retrieve(dataset, request).download(final_zip_path)\n",
    "\n",
    "\n"
   ]
  },
  {
   "cell_type": "markdown",
   "metadata": {},
   "source": [
    "#### Extraction du fichier ZIP"
   ]
  },
  {
   "cell_type": "code",
   "execution_count": 11,
   "metadata": {},
   "outputs": [
    {
     "name": "stdout",
     "output_type": "stream",
     "text": [
      "Fichiers extraits dans : ./data/extracted_files\n"
     ]
    }
   ],
   "source": [
    "with zipfile.ZipFile(final_zip_path, 'r') as zip_ref:\n",
    "    zip_ref.extractall(temp_dir)  # Extraction dans extracted_files\n",
    "print(f\"Fichiers extraits dans : {temp_dir}\")"
   ]
  },
  {
   "cell_type": "markdown",
   "metadata": {},
   "source": [
    "#### Ecriture du fichier extrait sur le cloud MinIO Client "
   ]
  },
  {
   "cell_type": "code",
   "execution_count": 13,
   "metadata": {},
   "outputs": [
    {
     "name": "stdout",
     "output_type": "stream",
     "text": [
      "['esam/diffusion']\n",
      "['esam/diffusion/cds_data/tos_Omon_HadGEM3-GC31-LL_historical_r1i1p1f3_gn_19500116-20141216.nc', 'esam/diffusion/cds_data/tos_Omon_HadGEM3-GC31-LL_ssp585_r1i1p1f3_gn_20150116-20490616.nc', 'esam/diffusion/cds_data/tos_Omon_MPI-ESM1-2-HR_historical_r1i1p1f1_gn_20000116-20140616.nc']\n"
     ]
    }
   ],
   "source": [
    "fs = s3fs.S3FileSystem(client_kwargs={\"endpoint_url\": \"https://minio.lab.sspcloud.fr\"})\n",
    "MY_BUCKET = \"esam\"\n",
    "print(fs.ls(MY_BUCKET))\n",
    "minio_path = f'{MY_BUCKET}/diffusion/cds_data/tos_Omon_HadGEM3-GC31-LL_historical_r1i1p1f3_gn_19500116-20141216.nc'\n",
    "\n",
    "\n",
    "with fs.open(minio_path, \"wb\") as minio_file:  # Fichier cible sur MinIO\n",
    "    with open(file_path, \"rb\") as local_file:  # Fichier source local\n",
    "        minio_file.write(local_file.read())\n",
    "\n",
    "print(fs.ls(f\"{MY_BUCKET}/diffusion/cds_data\"))"
   ]
  },
  {
   "cell_type": "markdown",
   "metadata": {},
   "source": [
    "### API CDS n°2 - SSP 5-8.5 (scénario le plus pessimiste)\n",
    "Modèle : hadgem3_gc31_ll (UK)\n",
    "Données : prédictives [2015 - 2049] \n",
    "Localisation : îles Vestmann (Islande)\n",
    "Variable : Sea Surface Temperature"
   ]
  },
  {
   "cell_type": "markdown",
   "metadata": {},
   "source": [
    "#### Requête API "
   ]
  },
  {
   "cell_type": "code",
   "execution_count": 14,
   "metadata": {},
   "outputs": [
    {
     "name": "stderr",
     "output_type": "stream",
     "text": [
      "2024-12-17 10:43:21,307 INFO Request ID is 72a9940d-9c78-4476-b5ec-7dbff5d689b8\n",
      "2024-12-17 10:43:21,457 INFO status has been updated to accepted\n",
      "2024-12-17 10:43:37,216 INFO status has been updated to running\n",
      "2024-12-17 10:43:45,781 INFO status has been updated to successful\n",
      "                                                                                       \r"
     ]
    },
    {
     "data": {
      "text/plain": [
       "'./data/cds_output_vestmann_ssp5_8_5.zip'"
      ]
     },
     "execution_count": 14,
     "metadata": {},
     "output_type": "execute_result"
    }
   ],
   "source": [
    "dataset = \"projections-cmip6\"\n",
    "request = {\n",
    "    \"temporal_resolution\": \"monthly\",\n",
    "    \"experiment\": \"ssp5_8_5\",\n",
    "    \"variable\": \"sea_surface_temperature\",\n",
    "    \"model\": \"hadgem3_gc31_ll\",\n",
    "    \"year\": [\n",
    "        \"2015\", \"2016\", \"2017\",\n",
    "        \"2018\", \"2019\", \"2020\",\n",
    "        \"2021\", \"2022\", \"2023\",\n",
    "        \"2024\", \"2025\", \"2026\",\n",
    "        \"2027\", \"2028\", \"2029\",\n",
    "        \"2030\", \"2031\", \"2032\",\n",
    "        \"2033\", \"2034\", \"2035\",\n",
    "        \"2036\", \"2037\", \"2038\",\n",
    "        \"2039\", \"2040\", \"2041\",\n",
    "        \"2042\", \"2043\", \"2044\",\n",
    "        \"2045\", \"2046\", \"2047\",\n",
    "        \"2048\", \"2049\"\n",
    "    ],\n",
    "    \"month\": [\n",
    "        \"01\", \"02\", \"03\",\n",
    "        \"04\", \"05\", \"06\",\n",
    "        \"07\", \"08\", \"09\",\n",
    "        \"10\", \"11\", \"12\"\n",
    "    ],\n",
    "    \"area\": [63.5, 20.5, 63.3, 20.1],  # Zone : Nord, Ouest, Sud, Est\n",
    "}\n",
    "\n",
    "final_zip_path = os.path.join(data_dir, \"cds_output_vestmann_ssp5_8_5.zip\")\n",
    "client.retrieve(dataset, request).download(final_zip_path)\n"
   ]
  },
  {
   "cell_type": "markdown",
   "metadata": {},
   "source": [
    "#### Extraction du fichier ZIP"
   ]
  },
  {
   "cell_type": "code",
   "execution_count": 15,
   "metadata": {},
   "outputs": [
    {
     "name": "stdout",
     "output_type": "stream",
     "text": [
      "Fichiers extraits dans : ./data/extracted_files\n"
     ]
    }
   ],
   "source": [
    "with zipfile.ZipFile(final_zip_path, 'r') as zip_ref:\n",
    "    zip_ref.extractall(temp_dir)  # Extraction dans extracted_files\n",
    "print(f\"Fichiers extraits dans : {temp_dir}\")"
   ]
  },
  {
   "cell_type": "markdown",
   "metadata": {},
   "source": [
    "#### Ecriture du fichier extrait sur le cloud MinIO Client"
   ]
  },
  {
   "cell_type": "code",
   "execution_count": 16,
   "metadata": {},
   "outputs": [
    {
     "name": "stdout",
     "output_type": "stream",
     "text": [
      "['esam/diffusion']\n",
      "['esam/diffusion/cds_data/tos_Omon_HadGEM3-GC31-LL_historical_r1i1p1f3_gn_19500116-20141216.nc', 'esam/diffusion/cds_data/tos_Omon_HadGEM3-GC31-LL_ssp585_r1i1p1f3_gn_20150116-20490616.nc', 'esam/diffusion/cds_data/tos_Omon_HadGEM3-GC31-LL_ssp585_r1i1p1f3_gn_20150116-20491216.nc', 'esam/diffusion/cds_data/tos_Omon_MPI-ESM1-2-HR_historical_r1i1p1f1_gn_20000116-20140616.nc']\n"
     ]
    }
   ],
   "source": [
    "fs = s3fs.S3FileSystem(client_kwargs={\"endpoint_url\": \"https://minio.lab.sspcloud.fr\"})\n",
    "MY_BUCKET = \"esam\"\n",
    "print(fs.ls(MY_BUCKET))\n",
    "minio_path = f'{MY_BUCKET}/diffusion/cds_data/tos_Omon_HadGEM3-GC31-LL_ssp585_r1i1p1f3_gn_20150116-20491216.nc'\n",
    "\n",
    "\n",
    "with fs.open(minio_path, \"wb\") as minio_file:  # Fichier cible sur MinIO\n",
    "    with open(file_path, \"rb\") as local_file:  # Fichier source local\n",
    "        minio_file.write(local_file.read())\n",
    "\n",
    "print(fs.ls(f\"{MY_BUCKET}/diffusion/cds_data\"))"
   ]
  },
  {
   "cell_type": "markdown",
   "metadata": {},
   "source": [
    "### API CDS n°2 - SSP 1-2.6 (scénario le plus optimiste)\n",
    "Modèle : hadgem3_gc31_ll (UK)\n",
    "Données : prédictives [2015 - 2049] \n",
    "Localisation : îles Vestmann (Islande)\n",
    "Variable : Sea Surface Temperature"
   ]
  },
  {
   "cell_type": "markdown",
   "metadata": {},
   "source": [
    "#### Requête API"
   ]
  },
  {
   "cell_type": "code",
   "execution_count": 17,
   "metadata": {},
   "outputs": [
    {
     "name": "stderr",
     "output_type": "stream",
     "text": [
      "2024-12-17 11:09:46,003 INFO Request ID is dfc1936d-c2dc-48a1-9726-72ca27843d2c\n",
      "2024-12-17 11:09:47,136 INFO status has been updated to accepted\n",
      "2024-12-17 11:09:53,236 INFO status has been updated to running\n",
      "2024-12-17 11:10:01,845 INFO status has been updated to successful\n",
      "                                                                                       \r"
     ]
    },
    {
     "data": {
      "text/plain": [
       "'./data/cds_output_vestmann_ssp1_2_6.zip'"
      ]
     },
     "execution_count": 17,
     "metadata": {},
     "output_type": "execute_result"
    }
   ],
   "source": [
    "dataset = \"projections-cmip6\"\n",
    "request = {\n",
    "    \"temporal_resolution\": \"monthly\",\n",
    "    \"experiment\": \"ssp1_2_6\",\n",
    "    \"variable\": \"sea_surface_temperature\",\n",
    "    \"model\": \"hadgem3_gc31_ll\",\n",
    "    \"year\": [\n",
    "        \"2015\", \"2016\", \"2017\",\n",
    "        \"2018\", \"2019\", \"2020\",\n",
    "        \"2021\", \"2022\", \"2023\",\n",
    "        \"2024\", \"2025\", \"2026\",\n",
    "        \"2027\", \"2028\", \"2029\",\n",
    "        \"2030\", \"2031\", \"2032\",\n",
    "        \"2033\", \"2034\", \"2035\",\n",
    "        \"2036\", \"2037\", \"2038\",\n",
    "        \"2039\", \"2040\", \"2041\",\n",
    "        \"2042\", \"2043\", \"2044\",\n",
    "        \"2045\", \"2046\", \"2047\",\n",
    "        \"2048\", \"2049\"\n",
    "    ],\n",
    "    \"month\": [\n",
    "        \"01\", \"02\", \"03\",\n",
    "        \"04\", \"05\", \"06\",\n",
    "        \"07\", \"08\", \"09\",\n",
    "        \"10\", \"11\", \"12\"\n",
    "    ],\n",
    "    \"area\": [63.5, 20.5, 63.3, 20.1],  # Zone : Nord, Ouest, Sud, Est\n",
    "}\n",
    "\n",
    "final_zip_path = os.path.join(data_dir, \"cds_output_vestmann_ssp1_2_6.zip\")\n",
    "client.retrieve(dataset, request).download(final_zip_path)\n"
   ]
  },
  {
   "cell_type": "markdown",
   "metadata": {},
   "source": [
    "#### Extraction du fichier ZIP"
   ]
  },
  {
   "cell_type": "code",
   "execution_count": 18,
   "metadata": {},
   "outputs": [
    {
     "name": "stdout",
     "output_type": "stream",
     "text": [
      "Fichiers extraits dans : ./data/extracted_files\n"
     ]
    }
   ],
   "source": [
    "with zipfile.ZipFile(final_zip_path, 'r') as zip_ref:\n",
    "    zip_ref.extractall(temp_dir)  # Extraction dans extracted_files\n",
    "print(f\"Fichiers extraits dans : {temp_dir}\")"
   ]
  },
  {
   "cell_type": "markdown",
   "metadata": {},
   "source": [
    "#### Ecriture du fichier extrait sur le cloud MinIO Client"
   ]
  },
  {
   "cell_type": "code",
   "execution_count": 19,
   "metadata": {},
   "outputs": [
    {
     "name": "stdout",
     "output_type": "stream",
     "text": [
      "['esam/diffusion']\n",
      "['esam/diffusion/cds_data/tos_Omon_HadGEM3-GC31-LL_historical_r1i1p1f3_gn_19500116-20141216.nc', 'esam/diffusion/cds_data/tos_Omon_HadGEM3-GC31-LL_ssp126_r1i1p1f3_gn_20150116-20491216.nc', 'esam/diffusion/cds_data/tos_Omon_HadGEM3-GC31-LL_ssp585_r1i1p1f3_gn_20150116-20491216.nc']\n"
     ]
    }
   ],
   "source": [
    "fs = s3fs.S3FileSystem(client_kwargs={\"endpoint_url\": \"https://minio.lab.sspcloud.fr\"})\n",
    "MY_BUCKET = \"esam\"\n",
    "print(fs.ls(MY_BUCKET))\n",
    "minio_path = f'{MY_BUCKET}/diffusion/cds_data/tos_Omon_HadGEM3-GC31-LL_ssp126_r1i1p1f3_gn_20150116-20491216.nc'\n",
    "\n",
    "\n",
    "with fs.open(minio_path, \"wb\") as minio_file:  # Fichier cible sur MinIO\n",
    "    with open(file_path, \"rb\") as local_file:  # Fichier source local\n",
    "        minio_file.write(local_file.read())\n",
    "\n",
    "print(fs.ls(f\"{MY_BUCKET}/diffusion/cds_data\"))"
   ]
  },
  {
   "cell_type": "markdown",
   "metadata": {},
   "source": [
    "### API CDS n°4 - SSP 2-4.5 (scénario intermédiaire)\n",
    "Modèle : hadgem3_gc31_ll (UK)\n",
    "Données : prédictives [2015 - 2049] \n",
    "Localisation : îles Vestmann (Islande)\n",
    "Variable : Sea Surface Temperature"
   ]
  },
  {
   "cell_type": "markdown",
   "metadata": {},
   "source": [
    "#### Requête API"
   ]
  },
  {
   "cell_type": "code",
   "execution_count": 20,
   "metadata": {},
   "outputs": [
    {
     "name": "stderr",
     "output_type": "stream",
     "text": [
      "2024-12-17 11:13:06,806 INFO Request ID is 772c0b77-2eb8-4449-a197-29b53e86e197\n",
      "2024-12-17 11:13:06,897 INFO status has been updated to accepted\n",
      "2024-12-17 11:13:15,648 INFO status has been updated to running\n",
      "2024-12-17 11:13:28,495 INFO status has been updated to successful\n",
      "                                                                                        \r"
     ]
    },
    {
     "data": {
      "text/plain": [
       "'./data/cds_output_vestmann_ssp2_4_5.zip'"
      ]
     },
     "execution_count": 20,
     "metadata": {},
     "output_type": "execute_result"
    }
   ],
   "source": [
    "dataset = \"projections-cmip6\"\n",
    "request = {\n",
    "    \"temporal_resolution\": \"monthly\",\n",
    "    \"experiment\": \"ssp2_4_5\",\n",
    "    \"variable\": \"sea_surface_temperature\",\n",
    "    \"model\": \"hadgem3_gc31_ll\",\n",
    "    \"year\": [\n",
    "        \"2015\", \"2016\", \"2017\",\n",
    "        \"2018\", \"2019\", \"2020\",\n",
    "        \"2021\", \"2022\", \"2023\",\n",
    "        \"2024\", \"2025\", \"2026\",\n",
    "        \"2027\", \"2028\", \"2029\",\n",
    "        \"2030\", \"2031\", \"2032\",\n",
    "        \"2033\", \"2034\", \"2035\",\n",
    "        \"2036\", \"2037\", \"2038\",\n",
    "        \"2039\", \"2040\", \"2041\",\n",
    "        \"2042\", \"2043\", \"2044\",\n",
    "        \"2045\", \"2046\", \"2047\",\n",
    "        \"2048\", \"2049\"\n",
    "    ],\n",
    "    \"month\": [\n",
    "        \"01\", \"02\", \"03\",\n",
    "        \"04\", \"05\", \"06\",\n",
    "        \"07\", \"08\", \"09\",\n",
    "        \"10\", \"11\", \"12\"\n",
    "    ],\n",
    "    \"area\": [63.5, 20.5, 63.3, 20.1],  # Zone : Nord, Ouest, Sud, Est\n",
    "}\n",
    "\n",
    "final_zip_path = os.path.join(data_dir, \"cds_output_vestmann_ssp2_4_5.zip\")\n",
    "client.retrieve(dataset, request).download(final_zip_path)"
   ]
  },
  {
   "cell_type": "markdown",
   "metadata": {},
   "source": [
    "#### Extraction du fichier ZIP"
   ]
  },
  {
   "cell_type": "code",
   "execution_count": 21,
   "metadata": {},
   "outputs": [
    {
     "name": "stdout",
     "output_type": "stream",
     "text": [
      "Fichiers extraits dans : ./data/extracted_files\n"
     ]
    }
   ],
   "source": [
    "with zipfile.ZipFile(final_zip_path, 'r') as zip_ref:\n",
    "    zip_ref.extractall(temp_dir)  # Extraction dans extracted_files\n",
    "print(f\"Fichiers extraits dans : {temp_dir}\")"
   ]
  },
  {
   "cell_type": "markdown",
   "metadata": {},
   "source": [
    "#### Ecriture du fichier extrait sur le cloud MinIO Client"
   ]
  },
  {
   "cell_type": "code",
   "execution_count": 22,
   "metadata": {},
   "outputs": [
    {
     "name": "stdout",
     "output_type": "stream",
     "text": [
      "['esam/diffusion']\n",
      "['esam/diffusion/cds_data/tos_Omon_HadGEM3-GC31-LL_historical_r1i1p1f3_gn_19500116-20141216.nc', 'esam/diffusion/cds_data/tos_Omon_HadGEM3-GC31-LL_ssp126_r1i1p1f3_gn_20150116-20491216.nc', 'esam/diffusion/cds_data/tos_Omon_HadGEM3-GC31-LL_ssp245_r1i1p1f3_gn_20150116-20491216.nc', 'esam/diffusion/cds_data/tos_Omon_HadGEM3-GC31-LL_ssp585_r1i1p1f3_gn_20150116-20491216.nc']\n"
     ]
    }
   ],
   "source": [
    "fs = s3fs.S3FileSystem(client_kwargs={\"endpoint_url\": \"https://minio.lab.sspcloud.fr\"})\n",
    "MY_BUCKET = \"esam\"\n",
    "print(fs.ls(MY_BUCKET))\n",
    "minio_path = f'{MY_BUCKET}/diffusion/cds_data/tos_Omon_HadGEM3-GC31-LL_ssp245_r1i1p1f3_gn_20150116-20491216.nc'\n",
    "\n",
    "\n",
    "with fs.open(minio_path, \"wb\") as minio_file:  # Fichier cible sur MinIO\n",
    "    with open(file_path, \"rb\") as local_file:  # Fichier source local\n",
    "        minio_file.write(local_file.read())\n",
    "\n",
    "print(fs.ls(f\"{MY_BUCKET}/diffusion/cds_data\"))"
   ]
  }
 ],
 "metadata": {
  "kernelspec": {
   "display_name": "base",
   "language": "python",
   "name": "python3"
  },
  "language_info": {
   "codemirror_mode": {
    "name": "ipython",
    "version": 3
   },
   "file_extension": ".py",
   "mimetype": "text/x-python",
   "name": "python",
   "nbconvert_exporter": "python",
   "pygments_lexer": "ipython3",
   "version": "3.12.7"
  }
 },
 "nbformat": 4,
 "nbformat_minor": 2
}
