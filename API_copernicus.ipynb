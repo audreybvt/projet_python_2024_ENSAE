{
 "cells": [
  {
   "cell_type": "markdown",
   "metadata": {},
   "source": [
    "# Constitution du cloud MinIO Client \n",
    "\n",
    "Le fichier diffusion du cloud MinIO Client est composé :\n",
    "- du fichier 'cds_data' qui regroupe les données issues du modèle de projection CMIP6 mis à disposition par le Climate Data Store de Copernicus \n",
    "- du fichier 'puffin_data' \n",
    "\n",
    "Ce notebook a pour objectif de centraliser les requêtes API réalisées pour obtenir les données climatiques issues du modèle prédictif CMIP6 et leur écriture sur le cloud ainsi que l'écriture des données relatives aux macaraux moines(Atlantic puffins en anglais)."
   ]
  },
  {
   "cell_type": "markdown",
   "metadata": {},
   "source": [
    "## 0. Set up the work environment for implementing data on the MinIO Client cloud "
   ]
  },
  {
   "cell_type": "code",
   "execution_count": null,
   "metadata": {},
   "outputs": [],
   "source": [
    "import cdsapi\n",
    "import pandas as pd\n",
    "import s3fs\n",
    "import zipfile\n",
    "import xarray as xr\n",
    "import dotenv\n",
    "import os\n",
    "\n",
    "\n",
    "\n",
    "# Définir les chemins dynamiques dans un sous-dossier \"data/\"\n",
    "data_dir = \"./data\"  # Sous-dossier pour centraliser les données\n",
    "os.makedirs(data_dir, exist_ok=True)  # Crée le dossier s'il n'existe pas\n",
    "temp_dir = os.path.join(data_dir, \"extracted_files\") # Sous-dossier d'extraction des fichiers zip\n",
    "os.makedirs(temp_dir, exist_ok=True)  # Crée le dossier d'extraction\n",
    "\n",
    "\n",
    "# Required information for the connection to Eve's bucket on MinIO Client cloud\n",
    "fs = s3fs.S3FileSystem(client_kwargs={\"endpoint_url\": \"https://minio.lab.sspcloud.fr\"})\n",
    "MY_BUCKET = \"esam\"\n",
    "print(fs.ls(MY_BUCKET))\n",
    "\n",
    "\n",
    "# Using of key elements for the API which are written in a hidden file '.cdsapirc'\n",
    "client = cdsapi.Client()"
   ]
  },
  {
   "cell_type": "markdown",
   "metadata": {},
   "source": [
    "### Nota bene \n",
    "\n",
    "The 'cdsapi' package has been developed by the Copernicus Climate Data Store (CDS) to perform API requests. The API url and token have first been entered in a '.cdsapirc' file, enabling the 'cdsapi.Client()' command to enter the connection information needed to perform the API. This file has been added to the .gitignore file, as it contains connection information for the CDS platform. "
   ]
  },
  {
   "cell_type": "markdown",
   "metadata": {},
   "source": [
    "## 1. API - Climate Data Store"
   ]
  },
  {
   "cell_type": "markdown",
   "metadata": {},
   "source": [
    "### API CDS n°1 \n",
    "Modèle : hadgem3_gc31_ll (UK)\n",
    "Données : historiques [1950 - 2014] \n",
    "Localisation : îles Vestmann (Islande)\n",
    "Variable : Sea Surface Temperature"
   ]
  },
  {
   "cell_type": "code",
   "execution_count": 29,
   "metadata": {},
   "outputs": [
    {
     "name": "stderr",
     "output_type": "stream",
     "text": [
      "2024-12-23 17:09:41,286 INFO [2024-09-28T00:00:00] **Welcome to the New Climate Data Store (CDS)!** This new system is in its early days of full operations and still undergoing enhancements and fine tuning. Some disruptions are to be expected. Your \n",
      "[feedback](https://jira.ecmwf.int/plugins/servlet/desk/portal/1/create/202) is key to improve the user experience on the new CDS for the benefit of everyone. Thank you.\n",
      "2024-12-23 17:09:41,287 INFO [2024-09-26T00:00:00] Watch our [Forum](https://forum.ecmwf.int/) for Announcements, news and other discussed topics.\n",
      "2024-12-23 17:09:41,289 INFO [2024-09-16T00:00:00] Remember that you need to have an ECMWF account to use the new CDS. **Your old CDS credentials will not work in new CDS!**\n",
      "2024-12-23 17:09:41,290 WARNING [2024-06-16T00:00:00] CDS API syntax is changed and some keys or parameter names may have also changed. To avoid requests failing, please use the \"Show API request code\" tool on the dataset Download Form to check you are using the correct syntax for your API request.\n",
      "2024-12-23 17:09:42,036 INFO Request ID is c6e24111-e684-4f80-b177-35b3bb175d7f\n",
      "2024-12-23 17:09:42,182 INFO status has been updated to accepted\n",
      "2024-12-23 17:09:47,367 INFO status has been updated to running\n",
      "2024-12-23 17:09:50,794 INFO status has been updated to successful\n",
      "                                                                                          \r"
     ]
    },
    {
     "name": "stdout",
     "output_type": "stream",
     "text": [
      "Files extracted in : ./data/extracted_files\n",
      "['esam/diffusion/cds_data/tos_Omon_HadGEM3-GC31-LL_historical_r1i1p1f3_gn_19500116-20141216.nc', 'esam/diffusion/cds_data/tos_Omon_HadGEM3-GC31-LL_ssp126_r1i1p1f3_gn_20150116-20491216.nc']\n"
     ]
    }
   ],
   "source": [
    "dataset = \"projections-cmip6\"\n",
    "request = {\n",
    "    \"temporal_resolution\": \"monthly\",\n",
    "    \"experiment\": \"historical\",\n",
    "    \"variable\": \"sea_surface_temperature\",\n",
    "    \"model\": \"hadgem3_gc31_ll\",\n",
    "    \"month\": [\n",
    "        \"01\", \"02\", \"03\",\n",
    "        \"04\", \"05\", \"06\",\n",
    "        \"07\", \"08\", \"09\",\n",
    "        \"10\", \"11\", \"12\"\n",
    "    ],\n",
    "    \"year\": [\n",
    "        \"1950\", \"1951\", \"1952\",\n",
    "        \"1953\", \"1954\", \"1955\",\n",
    "        \"1956\", \"1957\", \"1958\",\n",
    "        \"1959\", \"1960\", \"1961\",\n",
    "        \"1962\", \"1963\", \"1964\",\n",
    "        \"1965\", \"1966\", \"1967\",\n",
    "        \"1968\", \"1969\", \"1970\",\n",
    "        \"1971\", \"1972\", \"1973\",\n",
    "        \"1974\", \"1975\", \"1976\",\n",
    "        \"1977\", \"1978\", \"1979\",\n",
    "        \"1980\", \"1981\", \"1982\",\n",
    "        \"1983\", \"1984\", \"1985\",\n",
    "        \"1986\", \"1987\", \"1988\",\n",
    "        \"1989\", \"1990\", \"1991\",\n",
    "        \"1992\", \"1993\", \"1994\",\n",
    "        \"1995\", \"1996\", \"1997\",\n",
    "        \"1998\", \"1999\", \"2000\",\n",
    "        \"2001\", \"2002\", \"2003\",\n",
    "        \"2004\", \"2005\", \"2006\",\n",
    "        \"2007\", \"2008\", \"2009\",\n",
    "        \"2010\", \"2011\", \"2012\",\n",
    "        \"2013\", \"2014\"\n",
    "    ],\n",
    "    \"area\": [63.5, 20.5, 63.3, 20.1]\n",
    "}\n",
    "\n",
    "client = cdsapi.Client()\n",
    "final_zip_path = os.path.join(data_dir, \"cds_output_vestmann.zip\")\n",
    "client.retrieve(dataset, request).download(final_zip_path)\n",
    "\n",
    "\n",
    "# Extraction of the zipfile downloaded from the API\n",
    "with zipfile.ZipFile(final_zip_path, 'r') as zip_ref:\n",
    "    zip_ref.extractall(temp_dir)  # Extraction in extracted_files\n",
    "print(f\"Files extracted in : {temp_dir}\")\n",
    "\n",
    "\n",
    "\n",
    "# Writing of the extracted file on the MinIO Client cloud\n",
    "minio_path = f'{MY_BUCKET}/diffusion/cds_data/tos_Omon_HadGEM3-GC31-LL_historical_r1i1p1f3_gn_19500116-20141216.nc'\n",
    "file_path = \"data/extracted_files/tos_Omon_HadGEM3-GC31-LL_historical_r1i1p1f3_gn_19500116-20141216.nc\"\n",
    "with fs.open(minio_path, \"wb\") as minio_file:  # Target file on MinIO\n",
    "    with open(file_path, \"rb\") as local_file:  # Local original file \n",
    "        minio_file.write(local_file.read())\n",
    "\n",
    "print(fs.ls(f\"{MY_BUCKET}/diffusion/cds_data\"))\n"
   ]
  },
  {
   "cell_type": "markdown",
   "metadata": {},
   "source": [
    "### API CDS n°2 - SSP 5-8.5 (scénario le plus pessimiste)\n",
    "Modèle : hadgem3_gc31_ll (UK)\n",
    "Données : prédictives [2015 - 2049] \n",
    "Localisation : îles Vestmann (Islande)\n",
    "Variable : Sea Surface Temperature"
   ]
  },
  {
   "cell_type": "code",
   "execution_count": 30,
   "metadata": {},
   "outputs": [
    {
     "name": "stderr",
     "output_type": "stream",
     "text": [
      "2024-12-23 17:11:50,631 INFO Request ID is c3de168a-9cbd-422a-bbb7-5cc3ab394bb3\n",
      "2024-12-23 17:11:50,995 INFO status has been updated to accepted\n",
      "2024-12-23 17:11:56,203 INFO status has been updated to running\n",
      "2024-12-23 17:12:12,397 INFO status has been updated to successful\n",
      "                                                                                        "
     ]
    },
    {
     "name": "stdout",
     "output_type": "stream",
     "text": [
      "Fichiers extraits dans : ./data/extracted_files\n",
      "['esam/diffusion/cds_data/tos_Omon_HadGEM3-GC31-LL_historical_r1i1p1f3_gn_19500116-20141216.nc', 'esam/diffusion/cds_data/tos_Omon_HadGEM3-GC31-LL_ssp126_r1i1p1f3_gn_20150116-20491216.nc', 'esam/diffusion/cds_data/tos_Omon_HadGEM3-GC31-LL_ssp585_r1i1p1f3_gn_20150116-20491216.nc']\n"
     ]
    },
    {
     "name": "stderr",
     "output_type": "stream",
     "text": [
      "\r"
     ]
    }
   ],
   "source": [
    "dataset = \"projections-cmip6\"\n",
    "request = {\n",
    "    \"temporal_resolution\": \"monthly\",\n",
    "    \"experiment\": \"ssp5_8_5\",\n",
    "    \"variable\": \"sea_surface_temperature\",\n",
    "    \"model\": \"hadgem3_gc31_ll\",\n",
    "    \"year\": [\n",
    "        \"2015\", \"2016\", \"2017\",\n",
    "        \"2018\", \"2019\", \"2020\",\n",
    "        \"2021\", \"2022\", \"2023\",\n",
    "        \"2024\", \"2025\", \"2026\",\n",
    "        \"2027\", \"2028\", \"2029\",\n",
    "        \"2030\", \"2031\", \"2032\",\n",
    "        \"2033\", \"2034\", \"2035\",\n",
    "        \"2036\", \"2037\", \"2038\",\n",
    "        \"2039\", \"2040\", \"2041\",\n",
    "        \"2042\", \"2043\", \"2044\",\n",
    "        \"2045\", \"2046\", \"2047\",\n",
    "        \"2048\", \"2049\"\n",
    "    ],\n",
    "    \"month\": [\n",
    "        \"01\", \"02\", \"03\",\n",
    "        \"04\", \"05\", \"06\",\n",
    "        \"07\", \"08\", \"09\",\n",
    "        \"10\", \"11\", \"12\"\n",
    "    ],\n",
    "    \"area\": [63.5, 20.5, 63.3, 20.1],  # Zone : Nord, Ouest, Sud, Est\n",
    "}\n",
    "\n",
    "final_zip_path = os.path.join(data_dir, \"cds_output_vestmann_ssp5_8_5.zip\")\n",
    "client.retrieve(dataset, request).download(final_zip_path)\n",
    "\n",
    "\n",
    "\n",
    "# Extraction of the zipfile downloaded from the API\n",
    "with zipfile.ZipFile(final_zip_path, 'r') as zip_ref:\n",
    "    zip_ref.extractall(temp_dir)  # Extraction dans extracted_files\n",
    "print(f\"Fichiers extraits dans : {temp_dir}\")\n",
    "\n",
    "\n",
    "\n",
    "# Writing of the extracted file on the MinIO Client cloud\n",
    "minio_path = f'{MY_BUCKET}/diffusion/cds_data/tos_Omon_HadGEM3-GC31-LL_ssp585_r1i1p1f3_gn_20150116-20491216.nc'\n",
    "file_path = \"data/extracted_files/tos_Omon_HadGEM3-GC31-LL_ssp585_r1i1p1f3_gn_20150116-20491216.nc\"\n",
    "with fs.open(minio_path, \"wb\") as minio_file:  # Fichier cible sur MinIO\n",
    "    with open(file_path, \"rb\") as local_file:  # Fichier source local\n",
    "        minio_file.write(local_file.read())\n",
    "\n",
    "print(fs.ls(f\"{MY_BUCKET}/diffusion/cds_data\"))\n"
   ]
  },
  {
   "cell_type": "markdown",
   "metadata": {},
   "source": [
    "### API CDS n°2 - SSP 1-2.6 (scénario le plus optimiste)\n",
    "Modèle : hadgem3_gc31_ll (UK)\n",
    "Données : prédictives [2015 - 2049] \n",
    "Localisation : îles Vestmann (Islande)\n",
    "Variable : Sea Surface Temperature"
   ]
  },
  {
   "cell_type": "code",
   "execution_count": 31,
   "metadata": {},
   "outputs": [
    {
     "name": "stderr",
     "output_type": "stream",
     "text": [
      "2024-12-23 17:13:37,215 INFO Request ID is c92f6f9e-2fc6-41a3-af07-270733dd7b29\n",
      "2024-12-23 17:13:37,474 INFO status has been updated to accepted\n",
      "2024-12-23 17:13:58,766 INFO status has been updated to successful\n",
      "                                                                                        \r"
     ]
    },
    {
     "name": "stdout",
     "output_type": "stream",
     "text": [
      "Fichiers extraits dans : ./data/extracted_files\n",
      "['esam/diffusion/cds_data/tos_Omon_HadGEM3-GC31-LL_historical_r1i1p1f3_gn_19500116-20141216.nc', 'esam/diffusion/cds_data/tos_Omon_HadGEM3-GC31-LL_ssp126_r1i1p1f3_gn_20150116-20491216.nc', 'esam/diffusion/cds_data/tos_Omon_HadGEM3-GC31-LL_ssp585_r1i1p1f3_gn_20150116-20491216.nc']\n"
     ]
    }
   ],
   "source": [
    "dataset = \"projections-cmip6\"\n",
    "request = {\n",
    "    \"temporal_resolution\": \"monthly\",\n",
    "    \"experiment\": \"ssp1_2_6\",\n",
    "    \"variable\": \"sea_surface_temperature\",\n",
    "    \"model\": \"hadgem3_gc31_ll\",\n",
    "    \"year\": [\n",
    "        \"2015\", \"2016\", \"2017\",\n",
    "        \"2018\", \"2019\", \"2020\",\n",
    "        \"2021\", \"2022\", \"2023\",\n",
    "        \"2024\", \"2025\", \"2026\",\n",
    "        \"2027\", \"2028\", \"2029\",\n",
    "        \"2030\", \"2031\", \"2032\",\n",
    "        \"2033\", \"2034\", \"2035\",\n",
    "        \"2036\", \"2037\", \"2038\",\n",
    "        \"2039\", \"2040\", \"2041\",\n",
    "        \"2042\", \"2043\", \"2044\",\n",
    "        \"2045\", \"2046\", \"2047\",\n",
    "        \"2048\", \"2049\"\n",
    "    ],\n",
    "    \"month\": [\n",
    "        \"01\", \"02\", \"03\",\n",
    "        \"04\", \"05\", \"06\",\n",
    "        \"07\", \"08\", \"09\",\n",
    "        \"10\", \"11\", \"12\"\n",
    "    ],\n",
    "    \"area\": [63.5, 20.5, 63.3, 20.1],  # Zone : Nord, Ouest, Sud, Est\n",
    "}\n",
    "\n",
    "final_zip_path = os.path.join(data_dir, \"cds_output_vestmann_ssp1_2_6.zip\")\n",
    "client.retrieve(dataset, request).download(final_zip_path)\n",
    "\n",
    "\n",
    "# Extraction of the zipfile downloaded from the API\n",
    "with zipfile.ZipFile(final_zip_path, 'r') as zip_ref:\n",
    "    zip_ref.extractall(temp_dir)  # Extraction dans extracted_files\n",
    "print(f\"Fichiers extraits dans : {temp_dir}\")\n",
    "\n",
    "\n",
    "\n",
    "# Writing of the extracted file on the MinIO Client cloud\n",
    "minio_path = f'{MY_BUCKET}/diffusion/cds_data/tos_Omon_HadGEM3-GC31-LL_ssp126_r1i1p1f3_gn_20150116-20491216.nc'\n",
    "file_path = \"data/extracted_files/tos_Omon_HadGEM3-GC31-LL_ssp126_r1i1p1f3_gn_20150116-20491216.nc\"\n",
    "with fs.open(minio_path, \"wb\") as minio_file:  # Fichier cible sur MinIO\n",
    "    with open(file_path, \"rb\") as local_file:  # Fichier source local\n",
    "        minio_file.write(local_file.read())\n",
    "\n",
    "print(fs.ls(f\"{MY_BUCKET}/diffusion/cds_data\"))"
   ]
  },
  {
   "cell_type": "markdown",
   "metadata": {},
   "source": [
    "### API CDS n°4 - SSP 2-4.5 (scénario intermédiaire)\n",
    "Modèle : hadgem3_gc31_ll (UK)\n",
    "Données : prédictives [2015 - 2049] \n",
    "Localisation : îles Vestmann (Islande)\n",
    "Variable : Sea Surface Temperature"
   ]
  },
  {
   "cell_type": "code",
   "execution_count": 32,
   "metadata": {},
   "outputs": [
    {
     "name": "stderr",
     "output_type": "stream",
     "text": [
      "2024-12-23 17:15:09,360 INFO Request ID is 0128e360-848f-4edf-84d4-848c950b8e74\n",
      "2024-12-23 17:15:09,476 INFO status has been updated to accepted\n",
      "2024-12-23 17:15:14,443 INFO status has been updated to running\n",
      "2024-12-23 17:15:30,884 INFO status has been updated to successful\n",
      "                                                                                        "
     ]
    },
    {
     "name": "stdout",
     "output_type": "stream",
     "text": [
      "Fichiers extraits dans : ./data/extracted_files\n",
      "['esam/diffusion/cds_data/tos_Omon_HadGEM3-GC31-LL_historical_r1i1p1f3_gn_19500116-20141216.nc', 'esam/diffusion/cds_data/tos_Omon_HadGEM3-GC31-LL_ssp126_r1i1p1f3_gn_20150116-20491216.nc', 'esam/diffusion/cds_data/tos_Omon_HadGEM3-GC31-LL_ssp245_r1i1p1f3_gn_20150116-20491216.nc', 'esam/diffusion/cds_data/tos_Omon_HadGEM3-GC31-LL_ssp585_r1i1p1f3_gn_20150116-20491216.nc']\n"
     ]
    },
    {
     "name": "stderr",
     "output_type": "stream",
     "text": [
      "\r"
     ]
    }
   ],
   "source": [
    "dataset = \"projections-cmip6\"\n",
    "request = {\n",
    "    \"temporal_resolution\": \"monthly\",\n",
    "    \"experiment\": \"ssp2_4_5\",\n",
    "    \"variable\": \"sea_surface_temperature\",\n",
    "    \"model\": \"hadgem3_gc31_ll\",\n",
    "    \"year\": [\n",
    "        \"2015\", \"2016\", \"2017\",\n",
    "        \"2018\", \"2019\", \"2020\",\n",
    "        \"2021\", \"2022\", \"2023\",\n",
    "        \"2024\", \"2025\", \"2026\",\n",
    "        \"2027\", \"2028\", \"2029\",\n",
    "        \"2030\", \"2031\", \"2032\",\n",
    "        \"2033\", \"2034\", \"2035\",\n",
    "        \"2036\", \"2037\", \"2038\",\n",
    "        \"2039\", \"2040\", \"2041\",\n",
    "        \"2042\", \"2043\", \"2044\",\n",
    "        \"2045\", \"2046\", \"2047\",\n",
    "        \"2048\", \"2049\"\n",
    "    ],\n",
    "    \"month\": [\n",
    "        \"01\", \"02\", \"03\",\n",
    "        \"04\", \"05\", \"06\",\n",
    "        \"07\", \"08\", \"09\",\n",
    "        \"10\", \"11\", \"12\"\n",
    "    ],\n",
    "    \"area\": [63.5, 20.5, 63.3, 20.1],  # Zone : Nord, Ouest, Sud, Est\n",
    "}\n",
    "\n",
    "final_zip_path = os.path.join(data_dir, \"cds_output_vestmann_ssp2_4_5.zip\")\n",
    "client.retrieve(dataset, request).download(final_zip_path)\n",
    "\n",
    "\n",
    "# Extraction of the zipfile downloaded from the API\n",
    "with zipfile.ZipFile(final_zip_path, 'r') as zip_ref:\n",
    "    zip_ref.extractall(temp_dir)  # Extraction dans extracted_files\n",
    "print(f\"Fichiers extraits dans : {temp_dir}\")\n",
    "\n",
    "\n",
    "\n",
    "# Writing of the extracted file on the MinIO Client cloud\n",
    "minio_path = f'{MY_BUCKET}/diffusion/cds_data/tos_Omon_HadGEM3-GC31-LL_ssp245_r1i1p1f3_gn_20150116-20491216.nc'\n",
    "file_path = \"data/extracted_files/tos_Omon_HadGEM3-GC31-LL_ssp245_r1i1p1f3_gn_20150116-20491216.nc\"\n",
    "with fs.open(minio_path, \"wb\") as minio_file:  # Fichier cible sur MinIO\n",
    "    with open(file_path, \"rb\") as local_file:  # Fichier source local\n",
    "        minio_file.write(local_file.read())\n",
    "\n",
    "print(fs.ls(f\"{MY_BUCKET}/diffusion/cds_data\"))"
   ]
  },
  {
   "cell_type": "markdown",
   "metadata": {},
   "source": [
    "## 2. Données relatives aux Atlantic puffins (macareux moines)"
   ]
  },
  {
   "cell_type": "markdown",
   "metadata": {},
   "source": [
    "### Conversion des feuilles de données Excel en fichiers CSV"
   ]
  },
  {
   "cell_type": "code",
   "execution_count": null,
   "metadata": {},
   "outputs": [
    {
     "name": "stdout",
     "output_type": "stream",
     "text": [
      "Feuille 'Title page' enregistrée dans : ./data/puffin-data1_Title page.csv\n",
      "Feuille 'Data' enregistrée dans : ./data/puffin-data1_Data.csv\n",
      "Feuille 'Explanations (Data)' enregistrée dans : ./data/puffin-data1_Explanations (Data).csv\n",
      "Feuille 'Colonies' enregistrée dans : ./data/puffin-data1_Colonies.csv\n",
      "Feuille 'Explanations (Colonies)' enregistrée dans : ./data/puffin-data1_Explanations (Colonies).csv\n"
     ]
    }
   ],
   "source": [
    "excel_file = \"./data/puffin-datas1.xlsx\"  # Remplacez par le chemin de votre fichier Excel\n",
    "# 3. Charger toutes les feuilles du fichier Excel\n",
    "xls = pd.ExcelFile(excel_file)\n",
    "\n",
    "for sheet_name in xls.sheet_names:\n",
    "    df = pd.read_excel(xls, sheet_name=sheet_name)\n",
    "    csv_file = os.path.join(data_dir, f\"puffin-data1_{sheet_name}.csv\")\n",
    "    \n",
    "    # Sauvegarder la feuille en CSV\n",
    "    df.to_csv(csv_file, index=False, encoding=\"utf-8\")\n",
    "    print(f\"Feuille '{sheet_name}' enregistrée dans : {csv_file}\")"
   ]
  },
  {
   "cell_type": "markdown",
   "metadata": {},
   "source": [
    "### Ecriture des nouveaux fichiers CSV dans le cloud MinIO Client"
   ]
  },
  {
   "cell_type": "code",
   "execution_count": 6,
   "metadata": {},
   "outputs": [
    {
     "name": "stdout",
     "output_type": "stream",
     "text": [
      "Uploaded puffin-data1_Title page.csv successfully!\n",
      "Uploaded puffin-data1_Data.csv successfully!\n",
      "Uploaded puffin-data1_Colonies.csv successfully!\n",
      "Uploaded puffin-data1_Explanations (Data).csv successfully!\n",
      "Uploaded puffin-data1_Explanations (Colonies).csv successfully!\n"
     ]
    }
   ],
   "source": [
    "local_folder = \"./data\"\n",
    "\n",
    "for file_name in os.listdir(local_folder):\n",
    "    if file_name.startswith(\"puffin-data1\"):\n",
    "        local_file_path = os.path.join(local_folder, file_name)\n",
    "        minio_path = f\"{MY_BUCKET}/diffusion/puffin_data/{file_name}\"\n",
    "        \n",
    "        with open(local_file_path, \"rb\") as local_file:\n",
    "            with fs.open(minio_path, \"wb\") as minio_file:\n",
    "                minio_file.write(local_file.read())\n",
    "        \n",
    "        print(f\"Uploaded {file_name} successfully!\")\n",
    "\n"
   ]
  }
 ],
 "metadata": {
  "kernelspec": {
   "display_name": "base",
   "language": "python",
   "name": "python3"
  },
  "language_info": {
   "codemirror_mode": {
    "name": "ipython",
    "version": 3
   },
   "file_extension": ".py",
   "mimetype": "text/x-python",
   "name": "python",
   "nbconvert_exporter": "python",
   "pygments_lexer": "ipython3",
   "version": "3.12.7"
  }
 },
 "nbformat": 4,
 "nbformat_minor": 2
}
