{
 "cells": [
  {
   "cell_type": "markdown",
   "metadata": {},
   "source": [
    "# Constitution du cloud MinIO Client \n",
    "\n",
    "Le fichier diffusion du cloud MinIO Client est composé :\n",
    "- du fichier 'cds_data' qui regroupe les données issues du modèle de projection CMIP6 mis à disposition par le Climate Data Store de Copernicus \n",
    "- du fichier 'puffin_data' \n",
    "\n",
    "Ce notebook a pour objectif de centraliser les requêtes API réalisées pour obtenir les données climatiques issues du modèle prédictif CMIP6 et leur écriture sur le cloud ainsi que l'écriture des données relatives aux macaraux moines(Atlantic puffins en anglais)."
   ]
  },
  {
   "cell_type": "code",
   "execution_count": 9,
   "metadata": {},
   "outputs": [],
   "source": [
    "import cdsapi\n",
    "import pandas as pd\n",
    "import s3fs\n",
    "import zipfile\n",
    "import xarray as xr\n",
    "import dotenv\n",
    "import os\n",
    "\n",
    "\n",
    "\n",
    "# 1. Définir les chemins dynamiques dans un sous-dossier \"data/\"\n",
    "data_dir = \"./data\"  # Sous-dossier pour centraliser les données\n",
    "os.makedirs(data_dir, exist_ok=True)  # Crée le dossier s'il n'existe pas\n",
    "temp_dir = os.path.join(data_dir, \"extracted_files\") # Sous-dossier d'extraction des fichiers zip\n",
    "os.makedirs(temp_dir, exist_ok=True)  # Crée le dossier d'extraction"
   ]
  },
  {
   "cell_type": "markdown",
   "metadata": {},
   "source": [
    "#### Sécurisation des codes d'accès de l'API CDS dans un fichier .env et accès au bucket du cloud"
   ]
  },
  {
   "cell_type": "code",
   "execution_count": 10,
   "metadata": {},
   "outputs": [
    {
     "name": "stdout",
     "output_type": "stream",
     "text": [
      "['esam/diffusion']\n"
     ]
    }
   ],
   "source": [
    "# Required information for the connection to Eve's bucket on MinIO Client cloud\n",
    "fs = s3fs.S3FileSystem(client_kwargs={\"endpoint_url\": \"https://minio.lab.sspcloud.fr\"})\n",
    "MY_BUCKET = \"esam\"\n",
    "print(fs.ls(MY_BUCKET))\n",
    "\n",
    "# Using of key elements for the API which are written in a hidden file '.cdsapirc'\n",
    "client = cdsapi.Client()\n"
   ]
  },
  {
   "cell_type": "markdown",
   "metadata": {},
   "source": [
    "## API - Climate Data Store"
   ]
  },
  {
   "cell_type": "markdown",
   "metadata": {},
   "source": [
    "### API CDS n°1 \n",
    "Modèle : hadgem3_gc31_ll (UK)\n",
    "Données : historiques [1950 - 2014] \n",
    "Localisation : îles Vestmann (Islande)\n",
    "Variable : Sea Surface Temperature"
   ]
  },
  {
   "cell_type": "markdown",
   "metadata": {},
   "source": [
    "#### Requête API \n",
    "Utilisation du module \"cdsapi\" développé par le Climate Data Store et écriture du fichier de téléchargement dans le sous-dossier 'data'"
   ]
  },
  {
   "cell_type": "code",
   "execution_count": 8,
   "metadata": {},
   "outputs": [
    {
     "name": "stderr",
     "output_type": "stream",
     "text": [
      "2024-12-23 16:34:10,015 INFO Sending request to https://cds.climate.copernicus.eu/api/resources/projections-cmip6\n"
     ]
    },
    {
     "ename": "Exception",
     "evalue": "Not Found",
     "output_type": "error",
     "traceback": [
      "\u001b[0;31m---------------------------------------------------------------------------\u001b[0m",
      "\u001b[0;31mHTTPError\u001b[0m                                 Traceback (most recent call last)",
      "File \u001b[0;32m/opt/conda/lib/python3.12/site-packages/cdsapi/api.py:459\u001b[0m, in \u001b[0;36mClient._api\u001b[0;34m(self, url, request, method)\u001b[0m\n\u001b[1;32m    458\u001b[0m \u001b[38;5;28;01mtry\u001b[39;00m:\n\u001b[0;32m--> 459\u001b[0m     \u001b[43mresult\u001b[49m\u001b[38;5;241;43m.\u001b[39;49m\u001b[43mraise_for_status\u001b[49m\u001b[43m(\u001b[49m\u001b[43m)\u001b[49m\n\u001b[1;32m    460\u001b[0m     reply \u001b[38;5;241m=\u001b[39m result\u001b[38;5;241m.\u001b[39mjson()\n",
      "File \u001b[0;32m/opt/conda/lib/python3.12/site-packages/requests/models.py:1024\u001b[0m, in \u001b[0;36mResponse.raise_for_status\u001b[0;34m(self)\u001b[0m\n\u001b[1;32m   1023\u001b[0m \u001b[38;5;28;01mif\u001b[39;00m http_error_msg:\n\u001b[0;32m-> 1024\u001b[0m     \u001b[38;5;28;01mraise\u001b[39;00m HTTPError(http_error_msg, response\u001b[38;5;241m=\u001b[39m\u001b[38;5;28mself\u001b[39m)\n",
      "\u001b[0;31mHTTPError\u001b[0m: 404 Client Error: Not Found for url: https://cds.climate.copernicus.eu/api/resources/projections-cmip6",
      "\nDuring handling of the above exception, another exception occurred:\n",
      "\u001b[0;31mException\u001b[0m                                 Traceback (most recent call last)",
      "Cell \u001b[0;32mIn[8], line 5\u001b[0m\n\u001b[1;32m      1\u001b[0m \u001b[38;5;28;01mimport\u001b[39;00m \u001b[38;5;21;01mcdsapi\u001b[39;00m\n\u001b[1;32m      3\u001b[0m c \u001b[38;5;241m=\u001b[39m cdsapi\u001b[38;5;241m.\u001b[39mClient()\n\u001b[0;32m----> 5\u001b[0m \u001b[43mc\u001b[49m\u001b[38;5;241;43m.\u001b[39;49m\u001b[43mretrieve\u001b[49m\u001b[43m(\u001b[49m\n\u001b[1;32m      6\u001b[0m \u001b[43m    \u001b[49m\u001b[38;5;124;43m'\u001b[39;49m\u001b[38;5;124;43mprojections-cmip6\u001b[39;49m\u001b[38;5;124;43m'\u001b[39;49m\u001b[43m,\u001b[49m\n\u001b[1;32m      7\u001b[0m \u001b[43m    \u001b[49m\u001b[43m{\u001b[49m\n\u001b[1;32m      8\u001b[0m \u001b[43m        \u001b[49m\u001b[38;5;124;43m'\u001b[39;49m\u001b[38;5;124;43mexperiment\u001b[39;49m\u001b[38;5;124;43m'\u001b[39;49m\u001b[43m:\u001b[49m\u001b[43m \u001b[49m\u001b[38;5;124;43m'\u001b[39;49m\u001b[38;5;124;43mhistorical\u001b[39;49m\u001b[38;5;124;43m'\u001b[39;49m\u001b[43m,\u001b[49m\n\u001b[1;32m      9\u001b[0m \u001b[43m        \u001b[49m\u001b[38;5;124;43m'\u001b[39;49m\u001b[38;5;124;43mvariable\u001b[39;49m\u001b[38;5;124;43m'\u001b[39;49m\u001b[43m:\u001b[49m\u001b[43m \u001b[49m\u001b[38;5;124;43m'\u001b[39;49m\u001b[38;5;124;43mtemperature\u001b[39;49m\u001b[38;5;124;43m'\u001b[39;49m\u001b[43m,\u001b[49m\n\u001b[1;32m     10\u001b[0m \u001b[43m        \u001b[49m\u001b[38;5;124;43m'\u001b[39;49m\u001b[38;5;124;43mmodel\u001b[39;49m\u001b[38;5;124;43m'\u001b[39;49m\u001b[43m:\u001b[49m\u001b[43m \u001b[49m\u001b[38;5;124;43m'\u001b[39;49m\u001b[38;5;124;43mEC-Earth3\u001b[39;49m\u001b[38;5;124;43m'\u001b[39;49m\u001b[43m,\u001b[49m\n\u001b[1;32m     11\u001b[0m \u001b[43m        \u001b[49m\u001b[38;5;124;43m'\u001b[39;49m\u001b[38;5;124;43mgrid\u001b[39;49m\u001b[38;5;124;43m'\u001b[39;49m\u001b[43m:\u001b[49m\u001b[43m \u001b[49m\u001b[38;5;124;43m'\u001b[39;49m\u001b[38;5;124;43m100x100km\u001b[39;49m\u001b[38;5;124;43m'\u001b[39;49m\u001b[43m,\u001b[49m\n\u001b[1;32m     12\u001b[0m \u001b[43m        \u001b[49m\u001b[38;5;124;43m'\u001b[39;49m\u001b[38;5;124;43mformat\u001b[39;49m\u001b[38;5;124;43m'\u001b[39;49m\u001b[43m:\u001b[49m\u001b[43m \u001b[49m\u001b[38;5;124;43m'\u001b[39;49m\u001b[38;5;124;43mzip\u001b[39;49m\u001b[38;5;124;43m'\u001b[39;49m\u001b[43m,\u001b[49m\n\u001b[1;32m     13\u001b[0m \u001b[43m    \u001b[49m\u001b[43m}\u001b[49m\u001b[43m,\u001b[49m\n\u001b[1;32m     14\u001b[0m \u001b[43m    \u001b[49m\u001b[38;5;124;43m'\u001b[39;49m\u001b[38;5;124;43moutput.zip\u001b[39;49m\u001b[38;5;124;43m'\u001b[39;49m\n\u001b[1;32m     15\u001b[0m \u001b[43m)\u001b[49m\n",
      "File \u001b[0;32m/opt/conda/lib/python3.12/site-packages/cdsapi/api.py:381\u001b[0m, in \u001b[0;36mClient.retrieve\u001b[0;34m(self, name, request, target)\u001b[0m\n\u001b[1;32m    380\u001b[0m \u001b[38;5;28;01mdef\u001b[39;00m \u001b[38;5;21mretrieve\u001b[39m(\u001b[38;5;28mself\u001b[39m, name, request, target\u001b[38;5;241m=\u001b[39m\u001b[38;5;28;01mNone\u001b[39;00m):\n\u001b[0;32m--> 381\u001b[0m     result \u001b[38;5;241m=\u001b[39m \u001b[38;5;28;43mself\u001b[39;49m\u001b[38;5;241;43m.\u001b[39;49m\u001b[43m_api\u001b[49m\u001b[43m(\u001b[49m\u001b[38;5;124;43m\"\u001b[39;49m\u001b[38;5;132;43;01m%s\u001b[39;49;00m\u001b[38;5;124;43m/resources/\u001b[39;49m\u001b[38;5;132;43;01m%s\u001b[39;49;00m\u001b[38;5;124;43m\"\u001b[39;49m\u001b[43m \u001b[49m\u001b[38;5;241;43m%\u001b[39;49m\u001b[43m \u001b[49m\u001b[43m(\u001b[49m\u001b[38;5;28;43mself\u001b[39;49m\u001b[38;5;241;43m.\u001b[39;49m\u001b[43murl\u001b[49m\u001b[43m,\u001b[49m\u001b[43m \u001b[49m\u001b[43mname\u001b[49m\u001b[43m)\u001b[49m\u001b[43m,\u001b[49m\u001b[43m \u001b[49m\u001b[43mrequest\u001b[49m\u001b[43m,\u001b[49m\u001b[43m \u001b[49m\u001b[38;5;124;43m\"\u001b[39;49m\u001b[38;5;124;43mPOST\u001b[39;49m\u001b[38;5;124;43m\"\u001b[39;49m\u001b[43m)\u001b[49m\n\u001b[1;32m    382\u001b[0m     \u001b[38;5;28;01mif\u001b[39;00m target \u001b[38;5;129;01mis\u001b[39;00m \u001b[38;5;129;01mnot\u001b[39;00m \u001b[38;5;28;01mNone\u001b[39;00m:\n\u001b[1;32m    383\u001b[0m         result\u001b[38;5;241m.\u001b[39mdownload(target)\n",
      "File \u001b[0;32m/opt/conda/lib/python3.12/site-packages/cdsapi/api.py:481\u001b[0m, in \u001b[0;36mClient._api\u001b[0;34m(self, url, request, method)\u001b[0m\n\u001b[1;32m    476\u001b[0m             e\u001b[38;5;241m.\u001b[39mappend(\n\u001b[1;32m    477\u001b[0m                 \u001b[38;5;124m\"\u001b[39m\u001b[38;5;124mTo access this resource, you first need to accept the terms\u001b[39m\u001b[38;5;124m\"\u001b[39m\n\u001b[1;32m    478\u001b[0m                 \u001b[38;5;124m\"\u001b[39m\u001b[38;5;124mof \u001b[39m\u001b[38;5;124m'\u001b[39m\u001b[38;5;132;01m%s\u001b[39;00m\u001b[38;5;124m'\u001b[39m\u001b[38;5;124m at \u001b[39m\u001b[38;5;132;01m%s\u001b[39;00m\u001b[38;5;124m\"\u001b[39m \u001b[38;5;241m%\u001b[39m (t[\u001b[38;5;124m\"\u001b[39m\u001b[38;5;124mtitle\u001b[39m\u001b[38;5;124m\"\u001b[39m], t[\u001b[38;5;124m\"\u001b[39m\u001b[38;5;124murl\u001b[39m\u001b[38;5;124m\"\u001b[39m])\n\u001b[1;32m    479\u001b[0m             )\n\u001b[1;32m    480\u001b[0m         error \u001b[38;5;241m=\u001b[39m \u001b[38;5;124m\"\u001b[39m\u001b[38;5;124m. \u001b[39m\u001b[38;5;124m\"\u001b[39m\u001b[38;5;241m.\u001b[39mjoin(e)\n\u001b[0;32m--> 481\u001b[0m     \u001b[38;5;28;01mraise\u001b[39;00m \u001b[38;5;167;01mException\u001b[39;00m(error)\n\u001b[1;32m    482\u001b[0m \u001b[38;5;28;01melse\u001b[39;00m:\n\u001b[1;32m    483\u001b[0m     \u001b[38;5;28;01mraise\u001b[39;00m\n",
      "\u001b[0;31mException\u001b[0m: Not Found"
     ]
    }
   ],
   "source": [
    "import cdsapi\n",
    "\n",
    "c = cdsapi.Client()\n",
    "\n",
    "c.retrieve(\n",
    "    'projections-cmip6',\n",
    "    {\n",
    "        'experiment': 'historical',\n",
    "        'variable': 'temperature',\n",
    "        'model': 'EC-Earth3',\n",
    "        'grid': '100x100km',\n",
    "        'format': 'zip',\n",
    "    },\n",
    "    'output.zip'\n",
    ")\n"
   ]
  },
  {
   "cell_type": "code",
   "execution_count": 11,
   "metadata": {},
   "outputs": [
    {
     "name": "stderr",
     "output_type": "stream",
     "text": [
      "2024-12-23 16:34:55,046 INFO Sending request to https://cds.climate.copernicus.eu/api/resources/projections-cmip6\n"
     ]
    },
    {
     "ename": "Exception",
     "evalue": "Not Found",
     "output_type": "error",
     "traceback": [
      "\u001b[0;31m---------------------------------------------------------------------------\u001b[0m",
      "\u001b[0;31mHTTPError\u001b[0m                                 Traceback (most recent call last)",
      "File \u001b[0;32m/opt/conda/lib/python3.12/site-packages/cdsapi/api.py:459\u001b[0m, in \u001b[0;36mClient._api\u001b[0;34m(self, url, request, method)\u001b[0m\n\u001b[1;32m    458\u001b[0m \u001b[38;5;28;01mtry\u001b[39;00m:\n\u001b[0;32m--> 459\u001b[0m     \u001b[43mresult\u001b[49m\u001b[38;5;241;43m.\u001b[39;49m\u001b[43mraise_for_status\u001b[49m\u001b[43m(\u001b[49m\u001b[43m)\u001b[49m\n\u001b[1;32m    460\u001b[0m     reply \u001b[38;5;241m=\u001b[39m result\u001b[38;5;241m.\u001b[39mjson()\n",
      "File \u001b[0;32m/opt/conda/lib/python3.12/site-packages/requests/models.py:1024\u001b[0m, in \u001b[0;36mResponse.raise_for_status\u001b[0;34m(self)\u001b[0m\n\u001b[1;32m   1023\u001b[0m \u001b[38;5;28;01mif\u001b[39;00m http_error_msg:\n\u001b[0;32m-> 1024\u001b[0m     \u001b[38;5;28;01mraise\u001b[39;00m HTTPError(http_error_msg, response\u001b[38;5;241m=\u001b[39m\u001b[38;5;28mself\u001b[39m)\n",
      "\u001b[0;31mHTTPError\u001b[0m: 404 Client Error: Not Found for url: https://cds.climate.copernicus.eu/api/resources/projections-cmip6",
      "\nDuring handling of the above exception, another exception occurred:\n",
      "\u001b[0;31mException\u001b[0m                                 Traceback (most recent call last)",
      "Cell \u001b[0;32mIn[11], line 45\u001b[0m\n\u001b[1;32m     41\u001b[0m client \u001b[38;5;241m=\u001b[39m cdsapi\u001b[38;5;241m.\u001b[39mClient()\n\u001b[1;32m     44\u001b[0m final_zip_path \u001b[38;5;241m=\u001b[39m os\u001b[38;5;241m.\u001b[39mpath\u001b[38;5;241m.\u001b[39mjoin(data_dir, \u001b[38;5;124m\"\u001b[39m\u001b[38;5;124mcds_output_vestmann.zip\u001b[39m\u001b[38;5;124m\"\u001b[39m)\n\u001b[0;32m---> 45\u001b[0m \u001b[43mclient\u001b[49m\u001b[38;5;241;43m.\u001b[39;49m\u001b[43mretrieve\u001b[49m\u001b[43m(\u001b[49m\u001b[43mdataset\u001b[49m\u001b[43m,\u001b[49m\u001b[43m \u001b[49m\u001b[43mrequest\u001b[49m\u001b[43m)\u001b[49m\u001b[38;5;241m.\u001b[39mdownload(final_zip_path)\n",
      "File \u001b[0;32m/opt/conda/lib/python3.12/site-packages/cdsapi/api.py:381\u001b[0m, in \u001b[0;36mClient.retrieve\u001b[0;34m(self, name, request, target)\u001b[0m\n\u001b[1;32m    380\u001b[0m \u001b[38;5;28;01mdef\u001b[39;00m \u001b[38;5;21mretrieve\u001b[39m(\u001b[38;5;28mself\u001b[39m, name, request, target\u001b[38;5;241m=\u001b[39m\u001b[38;5;28;01mNone\u001b[39;00m):\n\u001b[0;32m--> 381\u001b[0m     result \u001b[38;5;241m=\u001b[39m \u001b[38;5;28;43mself\u001b[39;49m\u001b[38;5;241;43m.\u001b[39;49m\u001b[43m_api\u001b[49m\u001b[43m(\u001b[49m\u001b[38;5;124;43m\"\u001b[39;49m\u001b[38;5;132;43;01m%s\u001b[39;49;00m\u001b[38;5;124;43m/resources/\u001b[39;49m\u001b[38;5;132;43;01m%s\u001b[39;49;00m\u001b[38;5;124;43m\"\u001b[39;49m\u001b[43m \u001b[49m\u001b[38;5;241;43m%\u001b[39;49m\u001b[43m \u001b[49m\u001b[43m(\u001b[49m\u001b[38;5;28;43mself\u001b[39;49m\u001b[38;5;241;43m.\u001b[39;49m\u001b[43murl\u001b[49m\u001b[43m,\u001b[49m\u001b[43m \u001b[49m\u001b[43mname\u001b[49m\u001b[43m)\u001b[49m\u001b[43m,\u001b[49m\u001b[43m \u001b[49m\u001b[43mrequest\u001b[49m\u001b[43m,\u001b[49m\u001b[43m \u001b[49m\u001b[38;5;124;43m\"\u001b[39;49m\u001b[38;5;124;43mPOST\u001b[39;49m\u001b[38;5;124;43m\"\u001b[39;49m\u001b[43m)\u001b[49m\n\u001b[1;32m    382\u001b[0m     \u001b[38;5;28;01mif\u001b[39;00m target \u001b[38;5;129;01mis\u001b[39;00m \u001b[38;5;129;01mnot\u001b[39;00m \u001b[38;5;28;01mNone\u001b[39;00m:\n\u001b[1;32m    383\u001b[0m         result\u001b[38;5;241m.\u001b[39mdownload(target)\n",
      "File \u001b[0;32m/opt/conda/lib/python3.12/site-packages/cdsapi/api.py:481\u001b[0m, in \u001b[0;36mClient._api\u001b[0;34m(self, url, request, method)\u001b[0m\n\u001b[1;32m    476\u001b[0m             e\u001b[38;5;241m.\u001b[39mappend(\n\u001b[1;32m    477\u001b[0m                 \u001b[38;5;124m\"\u001b[39m\u001b[38;5;124mTo access this resource, you first need to accept the terms\u001b[39m\u001b[38;5;124m\"\u001b[39m\n\u001b[1;32m    478\u001b[0m                 \u001b[38;5;124m\"\u001b[39m\u001b[38;5;124mof \u001b[39m\u001b[38;5;124m'\u001b[39m\u001b[38;5;132;01m%s\u001b[39;00m\u001b[38;5;124m'\u001b[39m\u001b[38;5;124m at \u001b[39m\u001b[38;5;132;01m%s\u001b[39;00m\u001b[38;5;124m\"\u001b[39m \u001b[38;5;241m%\u001b[39m (t[\u001b[38;5;124m\"\u001b[39m\u001b[38;5;124mtitle\u001b[39m\u001b[38;5;124m\"\u001b[39m], t[\u001b[38;5;124m\"\u001b[39m\u001b[38;5;124murl\u001b[39m\u001b[38;5;124m\"\u001b[39m])\n\u001b[1;32m    479\u001b[0m             )\n\u001b[1;32m    480\u001b[0m         error \u001b[38;5;241m=\u001b[39m \u001b[38;5;124m\"\u001b[39m\u001b[38;5;124m. \u001b[39m\u001b[38;5;124m\"\u001b[39m\u001b[38;5;241m.\u001b[39mjoin(e)\n\u001b[0;32m--> 481\u001b[0m     \u001b[38;5;28;01mraise\u001b[39;00m \u001b[38;5;167;01mException\u001b[39;00m(error)\n\u001b[1;32m    482\u001b[0m \u001b[38;5;28;01melse\u001b[39;00m:\n\u001b[1;32m    483\u001b[0m     \u001b[38;5;28;01mraise\u001b[39;00m\n",
      "\u001b[0;31mException\u001b[0m: Not Found"
     ]
    }
   ],
   "source": [
    "dataset = \"projections-cmip6\"\n",
    "request = {\n",
    "    \"temporal_resolution\": \"monthly\",\n",
    "    \"experiment\": \"historical\",\n",
    "    \"variable\": \"sea_surface_temperature\",\n",
    "    \"model\": \"hadgem3_gc31_ll\",\n",
    "    \"year\": [\n",
    "        \"1950\", \"1951\", \"1952\",\n",
    "        \"1953\", \"1954\", \"1955\",\n",
    "        \"1956\", \"1957\", \"1958\",\n",
    "        \"1959\", \"1960\", \"1961\",\n",
    "        \"1962\", \"1963\", \"1964\",\n",
    "        \"1965\", \"1966\", \"1967\",\n",
    "        \"1968\", \"1969\", \"1970\",\n",
    "        \"1971\", \"1972\", \"1973\",\n",
    "        \"1974\", \"1975\", \"1976\",\n",
    "        \"1977\", \"1978\", \"1979\",\n",
    "        \"1980\", \"1981\", \"1982\",\n",
    "        \"1983\", \"1984\", \"1985\",\n",
    "        \"1986\", \"1987\", \"1988\",\n",
    "        \"1989\", \"1990\", \"1991\",\n",
    "        \"1992\", \"1993\", \"1994\",\n",
    "        \"1995\", \"1996\", \"1997\",\n",
    "        \"1998\", \"1999\", \"2000\",\n",
    "        \"2001\", \"2002\", \"2003\",\n",
    "        \"2004\", \"2005\", \"2006\",\n",
    "        \"2007\", \"2008\", \"2009\",\n",
    "        \"2010\", \"2011\", \"2012\",\n",
    "        \"2013\", \"2014\"\n",
    "    ],\n",
    "    \"month\": [\n",
    "        \"01\", \"02\", \"03\",\n",
    "        \"04\", \"05\", \"06\",\n",
    "        \"07\", \"08\", \"09\",\n",
    "        \"10\", \"11\", \"12\"\n",
    "    ],\n",
    "    \"area\": [63.5, 20.5, 63.3, 20.1],  # Zone : Nord, Ouest, Sud, Est\n",
    "}\n",
    "\n",
    "\n",
    "client = cdsapi.Client()\n",
    "\n",
    "\n",
    "final_zip_path = os.path.join(data_dir, \"cds_output_vestmann.zip\")\n",
    "client.retrieve(dataset, request).download(final_zip_path)\n"
   ]
  },
  {
   "cell_type": "markdown",
   "metadata": {},
   "source": [
    "#### Extraction du fichier ZIP"
   ]
  },
  {
   "cell_type": "code",
   "execution_count": null,
   "metadata": {},
   "outputs": [
    {
     "name": "stdout",
     "output_type": "stream",
     "text": [
      "Fichiers extraits dans : ./data/extracted_files\n"
     ]
    }
   ],
   "source": [
    "with zipfile.ZipFile(final_zip_path, 'r') as zip_ref:\n",
    "    zip_ref.extractall(temp_dir)  # Extraction dans extracted_files\n",
    "print(f\"Fichiers extraits dans : {temp_dir}\")"
   ]
  },
  {
   "cell_type": "markdown",
   "metadata": {},
   "source": [
    "#### Ecriture du fichier extrait sur le cloud MinIO Client "
   ]
  },
  {
   "cell_type": "code",
   "execution_count": null,
   "metadata": {},
   "outputs": [
    {
     "name": "stdout",
     "output_type": "stream",
     "text": [
      "['esam/diffusion']\n",
      "['esam/diffusion/cds_data/tos_Omon_HadGEM3-GC31-LL_historical_r1i1p1f3_gn_19500116-20141216.nc', 'esam/diffusion/cds_data/tos_Omon_HadGEM3-GC31-LL_ssp585_r1i1p1f3_gn_20150116-20490616.nc', 'esam/diffusion/cds_data/tos_Omon_MPI-ESM1-2-HR_historical_r1i1p1f1_gn_20000116-20140616.nc']\n"
     ]
    }
   ],
   "source": [
    "minio_path = f'{MY_BUCKET}/diffusion/cds_data/tos_Omon_HadGEM3-GC31-LL_historical_r1i1p1f3_gn_19500116-20141216.nc'\n",
    "\n",
    "\n",
    "with fs.open(minio_path, \"wb\") as minio_file:  # Fichier cible sur MinIO\n",
    "    with open(file_path, \"rb\") as local_file:  # Fichier source local\n",
    "        minio_file.write(local_file.read())\n",
    "\n",
    "print(fs.ls(f\"{MY_BUCKET}/diffusion/cds_data\"))"
   ]
  },
  {
   "cell_type": "markdown",
   "metadata": {},
   "source": [
    "### API CDS n°2 - SSP 5-8.5 (scénario le plus pessimiste)\n",
    "Modèle : hadgem3_gc31_ll (UK)\n",
    "Données : prédictives [2015 - 2049] \n",
    "Localisation : îles Vestmann (Islande)\n",
    "Variable : Sea Surface Temperature"
   ]
  },
  {
   "cell_type": "markdown",
   "metadata": {},
   "source": [
    "#### Requête API "
   ]
  },
  {
   "cell_type": "code",
   "execution_count": 4,
   "metadata": {},
   "outputs": [
    {
     "name": "stderr",
     "output_type": "stream",
     "text": [
      "2024-12-23 16:26:55,361 INFO Sending request to https://cds.climate.copernicus.eu/api/resources/projections-cmip6\n"
     ]
    },
    {
     "ename": "Exception",
     "evalue": "Not Found",
     "output_type": "error",
     "traceback": [
      "\u001b[0;31m---------------------------------------------------------------------------\u001b[0m",
      "\u001b[0;31mHTTPError\u001b[0m                                 Traceback (most recent call last)",
      "File \u001b[0;32m/opt/conda/lib/python3.12/site-packages/cdsapi/api.py:459\u001b[0m, in \u001b[0;36mClient._api\u001b[0;34m(self, url, request, method)\u001b[0m\n\u001b[1;32m    458\u001b[0m \u001b[38;5;28;01mtry\u001b[39;00m:\n\u001b[0;32m--> 459\u001b[0m     \u001b[43mresult\u001b[49m\u001b[38;5;241;43m.\u001b[39;49m\u001b[43mraise_for_status\u001b[49m\u001b[43m(\u001b[49m\u001b[43m)\u001b[49m\n\u001b[1;32m    460\u001b[0m     reply \u001b[38;5;241m=\u001b[39m result\u001b[38;5;241m.\u001b[39mjson()\n",
      "File \u001b[0;32m/opt/conda/lib/python3.12/site-packages/requests/models.py:1024\u001b[0m, in \u001b[0;36mResponse.raise_for_status\u001b[0;34m(self)\u001b[0m\n\u001b[1;32m   1023\u001b[0m \u001b[38;5;28;01mif\u001b[39;00m http_error_msg:\n\u001b[0;32m-> 1024\u001b[0m     \u001b[38;5;28;01mraise\u001b[39;00m HTTPError(http_error_msg, response\u001b[38;5;241m=\u001b[39m\u001b[38;5;28mself\u001b[39m)\n",
      "\u001b[0;31mHTTPError\u001b[0m: 404 Client Error: Not Found for url: https://cds.climate.copernicus.eu/api/resources/projections-cmip6",
      "\nDuring handling of the above exception, another exception occurred:\n",
      "\u001b[0;31mException\u001b[0m                                 Traceback (most recent call last)",
      "Cell \u001b[0;32mIn[4], line 31\u001b[0m\n\u001b[1;32m      2\u001b[0m request \u001b[38;5;241m=\u001b[39m {\n\u001b[1;32m      3\u001b[0m     \u001b[38;5;124m\"\u001b[39m\u001b[38;5;124mtemporal_resolution\u001b[39m\u001b[38;5;124m\"\u001b[39m: \u001b[38;5;124m\"\u001b[39m\u001b[38;5;124mmonthly\u001b[39m\u001b[38;5;124m\"\u001b[39m,\n\u001b[1;32m      4\u001b[0m     \u001b[38;5;124m\"\u001b[39m\u001b[38;5;124mexperiment\u001b[39m\u001b[38;5;124m\"\u001b[39m: \u001b[38;5;124m\"\u001b[39m\u001b[38;5;124mssp5_8_5\u001b[39m\u001b[38;5;124m\"\u001b[39m,\n\u001b[0;32m   (...)\u001b[0m\n\u001b[1;32m     27\u001b[0m     \u001b[38;5;124m\"\u001b[39m\u001b[38;5;124marea\u001b[39m\u001b[38;5;124m\"\u001b[39m: [\u001b[38;5;241m63.5\u001b[39m, \u001b[38;5;241m20.5\u001b[39m, \u001b[38;5;241m63.3\u001b[39m, \u001b[38;5;241m20.1\u001b[39m],  \u001b[38;5;66;03m# Zone : Nord, Ouest, Sud, Est\u001b[39;00m\n\u001b[1;32m     28\u001b[0m }\n\u001b[1;32m     30\u001b[0m final_zip_path \u001b[38;5;241m=\u001b[39m os\u001b[38;5;241m.\u001b[39mpath\u001b[38;5;241m.\u001b[39mjoin(data_dir, \u001b[38;5;124m\"\u001b[39m\u001b[38;5;124mcds_output_vestmann_ssp5_8_5.zip\u001b[39m\u001b[38;5;124m\"\u001b[39m)\n\u001b[0;32m---> 31\u001b[0m \u001b[43mclient\u001b[49m\u001b[38;5;241;43m.\u001b[39;49m\u001b[43mretrieve\u001b[49m\u001b[43m(\u001b[49m\u001b[43mdataset\u001b[49m\u001b[43m,\u001b[49m\u001b[43m \u001b[49m\u001b[43mrequest\u001b[49m\u001b[43m)\u001b[49m\u001b[38;5;241m.\u001b[39mdownload(final_zip_path)\n",
      "File \u001b[0;32m/opt/conda/lib/python3.12/site-packages/cdsapi/api.py:381\u001b[0m, in \u001b[0;36mClient.retrieve\u001b[0;34m(self, name, request, target)\u001b[0m\n\u001b[1;32m    380\u001b[0m \u001b[38;5;28;01mdef\u001b[39;00m \u001b[38;5;21mretrieve\u001b[39m(\u001b[38;5;28mself\u001b[39m, name, request, target\u001b[38;5;241m=\u001b[39m\u001b[38;5;28;01mNone\u001b[39;00m):\n\u001b[0;32m--> 381\u001b[0m     result \u001b[38;5;241m=\u001b[39m \u001b[38;5;28;43mself\u001b[39;49m\u001b[38;5;241;43m.\u001b[39;49m\u001b[43m_api\u001b[49m\u001b[43m(\u001b[49m\u001b[38;5;124;43m\"\u001b[39;49m\u001b[38;5;132;43;01m%s\u001b[39;49;00m\u001b[38;5;124;43m/resources/\u001b[39;49m\u001b[38;5;132;43;01m%s\u001b[39;49;00m\u001b[38;5;124;43m\"\u001b[39;49m\u001b[43m \u001b[49m\u001b[38;5;241;43m%\u001b[39;49m\u001b[43m \u001b[49m\u001b[43m(\u001b[49m\u001b[38;5;28;43mself\u001b[39;49m\u001b[38;5;241;43m.\u001b[39;49m\u001b[43murl\u001b[49m\u001b[43m,\u001b[49m\u001b[43m \u001b[49m\u001b[43mname\u001b[49m\u001b[43m)\u001b[49m\u001b[43m,\u001b[49m\u001b[43m \u001b[49m\u001b[43mrequest\u001b[49m\u001b[43m,\u001b[49m\u001b[43m \u001b[49m\u001b[38;5;124;43m\"\u001b[39;49m\u001b[38;5;124;43mPOST\u001b[39;49m\u001b[38;5;124;43m\"\u001b[39;49m\u001b[43m)\u001b[49m\n\u001b[1;32m    382\u001b[0m     \u001b[38;5;28;01mif\u001b[39;00m target \u001b[38;5;129;01mis\u001b[39;00m \u001b[38;5;129;01mnot\u001b[39;00m \u001b[38;5;28;01mNone\u001b[39;00m:\n\u001b[1;32m    383\u001b[0m         result\u001b[38;5;241m.\u001b[39mdownload(target)\n",
      "File \u001b[0;32m/opt/conda/lib/python3.12/site-packages/cdsapi/api.py:481\u001b[0m, in \u001b[0;36mClient._api\u001b[0;34m(self, url, request, method)\u001b[0m\n\u001b[1;32m    476\u001b[0m             e\u001b[38;5;241m.\u001b[39mappend(\n\u001b[1;32m    477\u001b[0m                 \u001b[38;5;124m\"\u001b[39m\u001b[38;5;124mTo access this resource, you first need to accept the terms\u001b[39m\u001b[38;5;124m\"\u001b[39m\n\u001b[1;32m    478\u001b[0m                 \u001b[38;5;124m\"\u001b[39m\u001b[38;5;124mof \u001b[39m\u001b[38;5;124m'\u001b[39m\u001b[38;5;132;01m%s\u001b[39;00m\u001b[38;5;124m'\u001b[39m\u001b[38;5;124m at \u001b[39m\u001b[38;5;132;01m%s\u001b[39;00m\u001b[38;5;124m\"\u001b[39m \u001b[38;5;241m%\u001b[39m (t[\u001b[38;5;124m\"\u001b[39m\u001b[38;5;124mtitle\u001b[39m\u001b[38;5;124m\"\u001b[39m], t[\u001b[38;5;124m\"\u001b[39m\u001b[38;5;124murl\u001b[39m\u001b[38;5;124m\"\u001b[39m])\n\u001b[1;32m    479\u001b[0m             )\n\u001b[1;32m    480\u001b[0m         error \u001b[38;5;241m=\u001b[39m \u001b[38;5;124m\"\u001b[39m\u001b[38;5;124m. \u001b[39m\u001b[38;5;124m\"\u001b[39m\u001b[38;5;241m.\u001b[39mjoin(e)\n\u001b[0;32m--> 481\u001b[0m     \u001b[38;5;28;01mraise\u001b[39;00m \u001b[38;5;167;01mException\u001b[39;00m(error)\n\u001b[1;32m    482\u001b[0m \u001b[38;5;28;01melse\u001b[39;00m:\n\u001b[1;32m    483\u001b[0m     \u001b[38;5;28;01mraise\u001b[39;00m\n",
      "\u001b[0;31mException\u001b[0m: Not Found"
     ]
    }
   ],
   "source": [
    "dataset = \"projections-cmip6\"\n",
    "request = {\n",
    "    \"temporal_resolution\": \"monthly\",\n",
    "    \"experiment\": \"ssp5_8_5\",\n",
    "    \"variable\": \"sea_surface_temperature\",\n",
    "    \"model\": \"hadgem3_gc31_ll\",\n",
    "    \"year\": [\n",
    "        \"2015\", \"2016\", \"2017\",\n",
    "        \"2018\", \"2019\", \"2020\",\n",
    "        \"2021\", \"2022\", \"2023\",\n",
    "        \"2024\", \"2025\", \"2026\",\n",
    "        \"2027\", \"2028\", \"2029\",\n",
    "        \"2030\", \"2031\", \"2032\",\n",
    "        \"2033\", \"2034\", \"2035\",\n",
    "        \"2036\", \"2037\", \"2038\",\n",
    "        \"2039\", \"2040\", \"2041\",\n",
    "        \"2042\", \"2043\", \"2044\",\n",
    "        \"2045\", \"2046\", \"2047\",\n",
    "        \"2048\", \"2049\"\n",
    "    ],\n",
    "    \"month\": [\n",
    "        \"01\", \"02\", \"03\",\n",
    "        \"04\", \"05\", \"06\",\n",
    "        \"07\", \"08\", \"09\",\n",
    "        \"10\", \"11\", \"12\"\n",
    "    ],\n",
    "    \"area\": [63.5, 20.5, 63.3, 20.1],  # Zone : Nord, Ouest, Sud, Est\n",
    "}\n",
    "\n",
    "final_zip_path = os.path.join(data_dir, \"cds_output_vestmann_ssp5_8_5.zip\")\n",
    "client.retrieve(dataset, request).download(final_zip_path)\n"
   ]
  },
  {
   "cell_type": "markdown",
   "metadata": {},
   "source": [
    "#### Extraction du fichier ZIP"
   ]
  },
  {
   "cell_type": "code",
   "execution_count": null,
   "metadata": {},
   "outputs": [
    {
     "name": "stdout",
     "output_type": "stream",
     "text": [
      "Fichiers extraits dans : ./data/extracted_files\n"
     ]
    }
   ],
   "source": [
    "with zipfile.ZipFile(final_zip_path, 'r') as zip_ref:\n",
    "    zip_ref.extractall(temp_dir)  # Extraction dans extracted_files\n",
    "print(f\"Fichiers extraits dans : {temp_dir}\")"
   ]
  },
  {
   "cell_type": "markdown",
   "metadata": {},
   "source": [
    "#### Ecriture du fichier extrait sur le cloud MinIO Client"
   ]
  },
  {
   "cell_type": "code",
   "execution_count": null,
   "metadata": {},
   "outputs": [
    {
     "name": "stdout",
     "output_type": "stream",
     "text": [
      "['esam/diffusion']\n",
      "['esam/diffusion/cds_data/tos_Omon_HadGEM3-GC31-LL_historical_r1i1p1f3_gn_19500116-20141216.nc', 'esam/diffusion/cds_data/tos_Omon_HadGEM3-GC31-LL_ssp585_r1i1p1f3_gn_20150116-20490616.nc', 'esam/diffusion/cds_data/tos_Omon_HadGEM3-GC31-LL_ssp585_r1i1p1f3_gn_20150116-20491216.nc', 'esam/diffusion/cds_data/tos_Omon_MPI-ESM1-2-HR_historical_r1i1p1f1_gn_20000116-20140616.nc']\n"
     ]
    }
   ],
   "source": [
    "minio_path = f'{MY_BUCKET}/diffusion/cds_data/tos_Omon_HadGEM3-GC31-LL_ssp585_r1i1p1f3_gn_20150116-20491216.nc'\n",
    "\n",
    "\n",
    "with fs.open(minio_path, \"wb\") as minio_file:  # Fichier cible sur MinIO\n",
    "    with open(file_path, \"rb\") as local_file:  # Fichier source local\n",
    "        minio_file.write(local_file.read())\n",
    "\n",
    "print(fs.ls(f\"{MY_BUCKET}/diffusion/cds_data\"))"
   ]
  },
  {
   "cell_type": "markdown",
   "metadata": {},
   "source": [
    "### API CDS n°2 - SSP 1-2.6 (scénario le plus optimiste)\n",
    "Modèle : hadgem3_gc31_ll (UK)\n",
    "Données : prédictives [2015 - 2049] \n",
    "Localisation : îles Vestmann (Islande)\n",
    "Variable : Sea Surface Temperature"
   ]
  },
  {
   "cell_type": "markdown",
   "metadata": {},
   "source": [
    "#### Requête API"
   ]
  },
  {
   "cell_type": "code",
   "execution_count": null,
   "metadata": {},
   "outputs": [
    {
     "name": "stderr",
     "output_type": "stream",
     "text": [
      "2024-12-17 11:09:46,003 INFO Request ID is dfc1936d-c2dc-48a1-9726-72ca27843d2c\n",
      "2024-12-17 11:09:47,136 INFO status has been updated to accepted\n",
      "2024-12-17 11:09:53,236 INFO status has been updated to running\n",
      "2024-12-17 11:10:01,845 INFO status has been updated to successful\n",
      "                                                                                       \r"
     ]
    },
    {
     "data": {
      "text/plain": [
       "'./data/cds_output_vestmann_ssp1_2_6.zip'"
      ]
     },
     "execution_count": 17,
     "metadata": {},
     "output_type": "execute_result"
    }
   ],
   "source": [
    "dataset = \"projections-cmip6\"\n",
    "request = {\n",
    "    \"temporal_resolution\": \"monthly\",\n",
    "    \"experiment\": \"ssp1_2_6\",\n",
    "    \"variable\": \"sea_surface_temperature\",\n",
    "    \"model\": \"hadgem3_gc31_ll\",\n",
    "    \"year\": [\n",
    "        \"2015\", \"2016\", \"2017\",\n",
    "        \"2018\", \"2019\", \"2020\",\n",
    "        \"2021\", \"2022\", \"2023\",\n",
    "        \"2024\", \"2025\", \"2026\",\n",
    "        \"2027\", \"2028\", \"2029\",\n",
    "        \"2030\", \"2031\", \"2032\",\n",
    "        \"2033\", \"2034\", \"2035\",\n",
    "        \"2036\", \"2037\", \"2038\",\n",
    "        \"2039\", \"2040\", \"2041\",\n",
    "        \"2042\", \"2043\", \"2044\",\n",
    "        \"2045\", \"2046\", \"2047\",\n",
    "        \"2048\", \"2049\"\n",
    "    ],\n",
    "    \"month\": [\n",
    "        \"01\", \"02\", \"03\",\n",
    "        \"04\", \"05\", \"06\",\n",
    "        \"07\", \"08\", \"09\",\n",
    "        \"10\", \"11\", \"12\"\n",
    "    ],\n",
    "    \"area\": [63.5, 20.5, 63.3, 20.1],  # Zone : Nord, Ouest, Sud, Est\n",
    "}\n",
    "\n",
    "final_zip_path = os.path.join(data_dir, \"cds_output_vestmann_ssp1_2_6.zip\")\n",
    "client.retrieve(dataset, request).download(final_zip_path)\n"
   ]
  },
  {
   "cell_type": "markdown",
   "metadata": {},
   "source": [
    "#### Extraction du fichier ZIP"
   ]
  },
  {
   "cell_type": "code",
   "execution_count": null,
   "metadata": {},
   "outputs": [
    {
     "name": "stdout",
     "output_type": "stream",
     "text": [
      "Fichiers extraits dans : ./data/extracted_files\n"
     ]
    }
   ],
   "source": [
    "with zipfile.ZipFile(final_zip_path, 'r') as zip_ref:\n",
    "    zip_ref.extractall(temp_dir)  # Extraction dans extracted_files\n",
    "print(f\"Fichiers extraits dans : {temp_dir}\")"
   ]
  },
  {
   "cell_type": "markdown",
   "metadata": {},
   "source": [
    "#### Ecriture du fichier extrait sur le cloud MinIO Client"
   ]
  },
  {
   "cell_type": "code",
   "execution_count": null,
   "metadata": {},
   "outputs": [
    {
     "name": "stdout",
     "output_type": "stream",
     "text": [
      "['esam/diffusion']\n",
      "['esam/diffusion/cds_data/tos_Omon_HadGEM3-GC31-LL_historical_r1i1p1f3_gn_19500116-20141216.nc', 'esam/diffusion/cds_data/tos_Omon_HadGEM3-GC31-LL_ssp126_r1i1p1f3_gn_20150116-20491216.nc', 'esam/diffusion/cds_data/tos_Omon_HadGEM3-GC31-LL_ssp585_r1i1p1f3_gn_20150116-20491216.nc']\n"
     ]
    }
   ],
   "source": [
    "minio_path = f'{MY_BUCKET}/diffusion/cds_data/tos_Omon_HadGEM3-GC31-LL_ssp126_r1i1p1f3_gn_20150116-20491216.nc'\n",
    "\n",
    "\n",
    "with fs.open(minio_path, \"wb\") as minio_file:  # Fichier cible sur MinIO\n",
    "    with open(file_path, \"rb\") as local_file:  # Fichier source local\n",
    "        minio_file.write(local_file.read())\n",
    "\n",
    "print(fs.ls(f\"{MY_BUCKET}/diffusion/cds_data\"))"
   ]
  },
  {
   "cell_type": "markdown",
   "metadata": {},
   "source": [
    "### API CDS n°4 - SSP 2-4.5 (scénario intermédiaire)\n",
    "Modèle : hadgem3_gc31_ll (UK)\n",
    "Données : prédictives [2015 - 2049] \n",
    "Localisation : îles Vestmann (Islande)\n",
    "Variable : Sea Surface Temperature"
   ]
  },
  {
   "cell_type": "markdown",
   "metadata": {},
   "source": [
    "#### Requête API"
   ]
  },
  {
   "cell_type": "code",
   "execution_count": null,
   "metadata": {},
   "outputs": [
    {
     "name": "stderr",
     "output_type": "stream",
     "text": [
      "2024-12-17 11:13:06,806 INFO Request ID is 772c0b77-2eb8-4449-a197-29b53e86e197\n",
      "2024-12-17 11:13:06,897 INFO status has been updated to accepted\n",
      "2024-12-17 11:13:15,648 INFO status has been updated to running\n",
      "2024-12-17 11:13:28,495 INFO status has been updated to successful\n",
      "                                                                                        \r"
     ]
    },
    {
     "data": {
      "text/plain": [
       "'./data/cds_output_vestmann_ssp2_4_5.zip'"
      ]
     },
     "execution_count": 20,
     "metadata": {},
     "output_type": "execute_result"
    }
   ],
   "source": [
    "dataset = \"projections-cmip6\"\n",
    "request = {\n",
    "    \"temporal_resolution\": \"monthly\",\n",
    "    \"experiment\": \"ssp2_4_5\",\n",
    "    \"variable\": \"sea_surface_temperature\",\n",
    "    \"model\": \"hadgem3_gc31_ll\",\n",
    "    \"year\": [\n",
    "        \"2015\", \"2016\", \"2017\",\n",
    "        \"2018\", \"2019\", \"2020\",\n",
    "        \"2021\", \"2022\", \"2023\",\n",
    "        \"2024\", \"2025\", \"2026\",\n",
    "        \"2027\", \"2028\", \"2029\",\n",
    "        \"2030\", \"2031\", \"2032\",\n",
    "        \"2033\", \"2034\", \"2035\",\n",
    "        \"2036\", \"2037\", \"2038\",\n",
    "        \"2039\", \"2040\", \"2041\",\n",
    "        \"2042\", \"2043\", \"2044\",\n",
    "        \"2045\", \"2046\", \"2047\",\n",
    "        \"2048\", \"2049\"\n",
    "    ],\n",
    "    \"month\": [\n",
    "        \"01\", \"02\", \"03\",\n",
    "        \"04\", \"05\", \"06\",\n",
    "        \"07\", \"08\", \"09\",\n",
    "        \"10\", \"11\", \"12\"\n",
    "    ],\n",
    "    \"area\": [63.5, 20.5, 63.3, 20.1],  # Zone : Nord, Ouest, Sud, Est\n",
    "}\n",
    "\n",
    "final_zip_path = os.path.join(data_dir, \"cds_output_vestmann_ssp2_4_5.zip\")\n",
    "client.retrieve(dataset, request).download(final_zip_path)"
   ]
  },
  {
   "cell_type": "markdown",
   "metadata": {},
   "source": [
    "#### Extraction du fichier ZIP"
   ]
  },
  {
   "cell_type": "code",
   "execution_count": null,
   "metadata": {},
   "outputs": [
    {
     "name": "stdout",
     "output_type": "stream",
     "text": [
      "Fichiers extraits dans : ./data/extracted_files\n"
     ]
    }
   ],
   "source": [
    "with zipfile.ZipFile(final_zip_path, 'r') as zip_ref:\n",
    "    zip_ref.extractall(temp_dir)  # Extraction dans extracted_files\n",
    "print(f\"Fichiers extraits dans : {temp_dir}\")"
   ]
  },
  {
   "cell_type": "markdown",
   "metadata": {},
   "source": [
    "#### Ecriture du fichier extrait sur le cloud MinIO Client"
   ]
  },
  {
   "cell_type": "code",
   "execution_count": null,
   "metadata": {},
   "outputs": [
    {
     "name": "stdout",
     "output_type": "stream",
     "text": [
      "['esam/diffusion']\n",
      "['esam/diffusion/cds_data/tos_Omon_HadGEM3-GC31-LL_historical_r1i1p1f3_gn_19500116-20141216.nc', 'esam/diffusion/cds_data/tos_Omon_HadGEM3-GC31-LL_ssp126_r1i1p1f3_gn_20150116-20491216.nc', 'esam/diffusion/cds_data/tos_Omon_HadGEM3-GC31-LL_ssp245_r1i1p1f3_gn_20150116-20491216.nc', 'esam/diffusion/cds_data/tos_Omon_HadGEM3-GC31-LL_ssp585_r1i1p1f3_gn_20150116-20491216.nc']\n"
     ]
    }
   ],
   "source": [
    "minio_path = f'{MY_BUCKET}/diffusion/cds_data/tos_Omon_HadGEM3-GC31-LL_ssp245_r1i1p1f3_gn_20150116-20491216.nc'\n",
    "\n",
    "\n",
    "with fs.open(minio_path, \"wb\") as minio_file:  # Fichier cible sur MinIO\n",
    "    with open(file_path, \"rb\") as local_file:  # Fichier source local\n",
    "        minio_file.write(local_file.read())\n",
    "\n",
    "print(fs.ls(f\"{MY_BUCKET}/diffusion/cds_data\"))"
   ]
  },
  {
   "cell_type": "markdown",
   "metadata": {},
   "source": [
    "## Données relatives aux Atlantic puffins (macareux moines)"
   ]
  },
  {
   "cell_type": "markdown",
   "metadata": {},
   "source": [
    "### Conversion des feuilles de données Excel en fichiers CSV"
   ]
  },
  {
   "cell_type": "code",
   "execution_count": null,
   "metadata": {},
   "outputs": [
    {
     "name": "stdout",
     "output_type": "stream",
     "text": [
      "Feuille 'Title page' enregistrée dans : ./data/puffin-data1_Title page.csv\n",
      "Feuille 'Data' enregistrée dans : ./data/puffin-data1_Data.csv\n",
      "Feuille 'Explanations (Data)' enregistrée dans : ./data/puffin-data1_Explanations (Data).csv\n",
      "Feuille 'Colonies' enregistrée dans : ./data/puffin-data1_Colonies.csv\n",
      "Feuille 'Explanations (Colonies)' enregistrée dans : ./data/puffin-data1_Explanations (Colonies).csv\n"
     ]
    }
   ],
   "source": [
    "excel_file = \"./data/puffin-datas1.xlsx\"  # Remplacez par le chemin de votre fichier Excel\n",
    "# 3. Charger toutes les feuilles du fichier Excel\n",
    "xls = pd.ExcelFile(excel_file)\n",
    "\n",
    "for sheet_name in xls.sheet_names:\n",
    "    df = pd.read_excel(xls, sheet_name=sheet_name)\n",
    "    csv_file = os.path.join(data_dir, f\"puffin-data1_{sheet_name}.csv\")\n",
    "    \n",
    "    # Sauvegarder la feuille en CSV\n",
    "    df.to_csv(csv_file, index=False, encoding=\"utf-8\")\n",
    "    print(f\"Feuille '{sheet_name}' enregistrée dans : {csv_file}\")"
   ]
  },
  {
   "cell_type": "markdown",
   "metadata": {},
   "source": [
    "### Ecriture des nouveaux fichiers CSV dans le cloud MinIO Client"
   ]
  },
  {
   "cell_type": "code",
   "execution_count": 6,
   "metadata": {},
   "outputs": [
    {
     "name": "stdout",
     "output_type": "stream",
     "text": [
      "Uploaded puffin-data1_Title page.csv successfully!\n",
      "Uploaded puffin-data1_Data.csv successfully!\n",
      "Uploaded puffin-data1_Colonies.csv successfully!\n",
      "Uploaded puffin-data1_Explanations (Data).csv successfully!\n",
      "Uploaded puffin-data1_Explanations (Colonies).csv successfully!\n"
     ]
    }
   ],
   "source": [
    "local_folder = \"./data\"\n",
    "\n",
    "for file_name in os.listdir(local_folder):\n",
    "    if file_name.startswith(\"puffin-data1\"):\n",
    "        local_file_path = os.path.join(local_folder, file_name)\n",
    "        minio_path = f\"{MY_BUCKET}/diffusion/puffin_data/{file_name}\"\n",
    "        \n",
    "        with open(local_file_path, \"rb\") as local_file:\n",
    "            with fs.open(minio_path, \"wb\") as minio_file:\n",
    "                minio_file.write(local_file.read())\n",
    "        \n",
    "        print(f\"Uploaded {file_name} successfully!\")\n",
    "\n"
   ]
  }
 ],
 "metadata": {
  "kernelspec": {
   "display_name": "base",
   "language": "python",
   "name": "python3"
  },
  "language_info": {
   "codemirror_mode": {
    "name": "ipython",
    "version": 3
   },
   "file_extension": ".py",
   "mimetype": "text/x-python",
   "name": "python",
   "nbconvert_exporter": "python",
   "pygments_lexer": "ipython3",
   "version": "3.12.7"
  }
 },
 "nbformat": 4,
 "nbformat_minor": 2
}
