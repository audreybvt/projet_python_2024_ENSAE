{
 "cells": [
  {
   "cell_type": "markdown",
   "metadata": {},
   "source": [
    "# Constitution du cloud MinIO Client \n",
    "\n",
    "Le fichier diffusion du cloud MinIO Client est composé :\n",
    "- du fichier 'cds_data' qui regroupe les données issues du modèle de projection CMIP6 mis à disposition par le Climate Data Store de Copernicus \n",
    "- du fichier 'puffin_data' \n",
    "\n",
    "Ce notebook a pour objectif de centraliser les requêtes API réalisées pour obtenir les données climatiques issues du modèle prédictif CMIP6 et leur écriture sur le cloud ainsi que l'écriture des données relatives aux macaraux moines(Atlantic puffins en anglais)."
   ]
  },
  {
   "cell_type": "code",
   "execution_count": 14,
   "metadata": {},
   "outputs": [],
   "source": [
    "import cdsapi\n",
    "import pandas as pd\n",
    "import s3fs\n",
    "import zipfile\n",
    "import xarray as xr\n",
    "import dotenv\n",
    "import os\n",
    "\n",
    "\n",
    "\n",
    "# 1. Définir les chemins dynamiques dans un sous-dossier \"data/\"\n",
    "data_dir = \"./data\"  # Sous-dossier pour centraliser les données\n",
    "os.makedirs(data_dir, exist_ok=True)  # Crée le dossier s'il n'existe pas\n",
    "temp_dir = os.path.join(data_dir, \"extracted_files\") # Sous-dossier d'extraction des fichiers zip\n",
    "os.makedirs(temp_dir, exist_ok=True)  # Crée le dossier d'extraction"
   ]
  },
  {
   "cell_type": "markdown",
   "metadata": {},
   "source": [
    "#### Sécurisation des codes d'accès de l'API CDS dans un fichier .env et accès au bucket du cloud"
   ]
  },
  {
   "cell_type": "code",
   "execution_count": 15,
   "metadata": {},
   "outputs": [
    {
     "name": "stdout",
     "output_type": "stream",
     "text": [
      "Le fichier .cdsapirc a été créé à : /home/onyxia/.cdsapirc\n",
      "['esam/diffusion']\n"
     ]
    }
   ],
   "source": [
    "from dotenv import load_dotenv\n",
    "\n",
    "# Charger les variables depuis le fichier .env\n",
    "load_dotenv()\n",
    "\n",
    "# Récupérer les variables d'environnement\n",
    "cdsapi_url = os.getenv(\"cdsapi_url\")\n",
    "cdsapi_key = os.getenv(\"cdsapi_key\")\n",
    "\n",
    "# Construire le chemin vers le fichier .cdsapirc dans le répertoire utilisateur\n",
    "home_dir = os.path.expanduser(\"~\")\n",
    "file_path = os.path.join(home_dir, \".cdsapirc\")\n",
    "\n",
    "# Écrire le fichier .cdsapirc avec les variables\n",
    "with open(file_path, 'w') as file:\n",
    "    file.write(f\"\"\"\n",
    "    url: {cdsapi_url}\n",
    "    key: {cdsapi_key}\n",
    "\"\"\")\n",
    "print(f\"Le fichier .cdsapirc a été créé à : {file_path}\")\n",
    "\n",
    "\n",
    "\n",
    "fs = s3fs.S3FileSystem(client_kwargs={\"endpoint_url\": \"https://minio.lab.sspcloud.fr\"})\n",
    "MY_BUCKET = \"esam\"\n",
    "print(fs.ls(MY_BUCKET))\n"
   ]
  },
  {
   "cell_type": "markdown",
   "metadata": {},
   "source": [
    "## API - Climate Data Store"
   ]
  },
  {
   "cell_type": "markdown",
   "metadata": {},
   "source": [
    "### API CDS n°1 \n",
    "Modèle : hadgem3_gc31_ll (UK)\n",
    "Données : historiques [1950 - 2014] \n",
    "Localisation : îles Vestmann (Islande)\n",
    "Variable : Sea Surface Temperature"
   ]
  },
  {
   "cell_type": "markdown",
   "metadata": {},
   "source": [
    "#### Requête API \n",
    "Utilisation du module \"cdsapi\" développé par le Climate Data Store et écriture du fichier de téléchargement dans le sous-dossier 'data'"
   ]
  },
  {
   "cell_type": "code",
   "execution_count": null,
   "metadata": {},
   "outputs": [
    {
     "name": "stderr",
     "output_type": "stream",
     "text": [
      "2024-12-17 10:33:45,244 INFO Request ID is e110e359-9be4-4df7-84a5-8e8bd9ac03ab\n",
      "2024-12-17 10:33:45,810 INFO status has been updated to accepted\n",
      "2024-12-17 10:33:51,672 INFO status has been updated to running\n",
      "2024-12-17 10:33:55,113 INFO status has been updated to successful\n",
      "                                                                                          \r"
     ]
    },
    {
     "data": {
      "text/plain": [
       "'./data/cds_output_vestmann.zip'"
      ]
     },
     "execution_count": 8,
     "metadata": {},
     "output_type": "execute_result"
    }
   ],
   "source": [
    "dataset = \"projections-cmip6\"\n",
    "request = {\n",
    "    \"temporal_resolution\": \"monthly\",\n",
    "    \"experiment\": \"historical\",\n",
    "    \"variable\": \"sea_surface_temperature\",\n",
    "    \"model\": \"hadgem3_gc31_ll\",\n",
    "    \"year\": [\n",
    "        \"1950\", \"1951\", \"1952\",\n",
    "        \"1953\", \"1954\", \"1955\",\n",
    "        \"1956\", \"1957\", \"1958\",\n",
    "        \"1959\", \"1960\", \"1961\",\n",
    "        \"1962\", \"1963\", \"1964\",\n",
    "        \"1965\", \"1966\", \"1967\",\n",
    "        \"1968\", \"1969\", \"1970\",\n",
    "        \"1971\", \"1972\", \"1973\",\n",
    "        \"1974\", \"1975\", \"1976\",\n",
    "        \"1977\", \"1978\", \"1979\",\n",
    "        \"1980\", \"1981\", \"1982\",\n",
    "        \"1983\", \"1984\", \"1985\",\n",
    "        \"1986\", \"1987\", \"1988\",\n",
    "        \"1989\", \"1990\", \"1991\",\n",
    "        \"1992\", \"1993\", \"1994\",\n",
    "        \"1995\", \"1996\", \"1997\",\n",
    "        \"1998\", \"1999\", \"2000\",\n",
    "        \"2001\", \"2002\", \"2003\",\n",
    "        \"2004\", \"2005\", \"2006\",\n",
    "        \"2007\", \"2008\", \"2009\",\n",
    "        \"2010\", \"2011\", \"2012\",\n",
    "        \"2013\", \"2014\"\n",
    "    ],\n",
    "    \"month\": [\n",
    "        \"01\", \"02\", \"03\",\n",
    "        \"04\", \"05\", \"06\",\n",
    "        \"07\", \"08\", \"09\",\n",
    "        \"10\", \"11\", \"12\"\n",
    "    ],\n",
    "    \"area\": [63.5, 20.5, 63.3, 20.1],  # Zone : Nord, Ouest, Sud, Est\n",
    "}\n",
    "\n",
    "\n",
    "final_zip_path = os.path.join(data_dir, \"cds_output_vestmann.zip\")\n",
    "client.retrieve(dataset, request).download(final_zip_path)\n",
    "\n",
    "\n"
   ]
  },
  {
   "cell_type": "markdown",
   "metadata": {},
   "source": [
    "#### Extraction du fichier ZIP"
   ]
  },
  {
   "cell_type": "code",
   "execution_count": null,
   "metadata": {},
   "outputs": [
    {
     "name": "stdout",
     "output_type": "stream",
     "text": [
      "Fichiers extraits dans : ./data/extracted_files\n"
     ]
    }
   ],
   "source": [
    "with zipfile.ZipFile(final_zip_path, 'r') as zip_ref:\n",
    "    zip_ref.extractall(temp_dir)  # Extraction dans extracted_files\n",
    "print(f\"Fichiers extraits dans : {temp_dir}\")"
   ]
  },
  {
   "cell_type": "markdown",
   "metadata": {},
   "source": [
    "#### Ecriture du fichier extrait sur le cloud MinIO Client "
   ]
  },
  {
   "cell_type": "code",
   "execution_count": null,
   "metadata": {},
   "outputs": [
    {
     "name": "stdout",
     "output_type": "stream",
     "text": [
      "['esam/diffusion']\n",
      "['esam/diffusion/cds_data/tos_Omon_HadGEM3-GC31-LL_historical_r1i1p1f3_gn_19500116-20141216.nc', 'esam/diffusion/cds_data/tos_Omon_HadGEM3-GC31-LL_ssp585_r1i1p1f3_gn_20150116-20490616.nc', 'esam/diffusion/cds_data/tos_Omon_MPI-ESM1-2-HR_historical_r1i1p1f1_gn_20000116-20140616.nc']\n"
     ]
    }
   ],
   "source": [
    "minio_path = f'{MY_BUCKET}/diffusion/cds_data/tos_Omon_HadGEM3-GC31-LL_historical_r1i1p1f3_gn_19500116-20141216.nc'\n",
    "\n",
    "\n",
    "with fs.open(minio_path, \"wb\") as minio_file:  # Fichier cible sur MinIO\n",
    "    with open(file_path, \"rb\") as local_file:  # Fichier source local\n",
    "        minio_file.write(local_file.read())\n",
    "\n",
    "print(fs.ls(f\"{MY_BUCKET}/diffusion/cds_data\"))"
   ]
  },
  {
   "cell_type": "markdown",
   "metadata": {},
   "source": [
    "### API CDS n°2 - SSP 5-8.5 (scénario le plus pessimiste)\n",
    "Modèle : hadgem3_gc31_ll (UK)\n",
    "Données : prédictives [2015 - 2049] \n",
    "Localisation : îles Vestmann (Islande)\n",
    "Variable : Sea Surface Temperature"
   ]
  },
  {
   "cell_type": "markdown",
   "metadata": {},
   "source": [
    "#### Requête API "
   ]
  },
  {
   "cell_type": "code",
   "execution_count": null,
   "metadata": {},
   "outputs": [
    {
     "name": "stderr",
     "output_type": "stream",
     "text": [
      "2024-12-17 10:43:21,307 INFO Request ID is 72a9940d-9c78-4476-b5ec-7dbff5d689b8\n",
      "2024-12-17 10:43:21,457 INFO status has been updated to accepted\n",
      "2024-12-17 10:43:37,216 INFO status has been updated to running\n",
      "2024-12-17 10:43:45,781 INFO status has been updated to successful\n",
      "                                                                                       \r"
     ]
    },
    {
     "data": {
      "text/plain": [
       "'./data/cds_output_vestmann_ssp5_8_5.zip'"
      ]
     },
     "execution_count": 14,
     "metadata": {},
     "output_type": "execute_result"
    }
   ],
   "source": [
    "dataset = \"projections-cmip6\"\n",
    "request = {\n",
    "    \"temporal_resolution\": \"monthly\",\n",
    "    \"experiment\": \"ssp5_8_5\",\n",
    "    \"variable\": \"sea_surface_temperature\",\n",
    "    \"model\": \"hadgem3_gc31_ll\",\n",
    "    \"year\": [\n",
    "        \"2015\", \"2016\", \"2017\",\n",
    "        \"2018\", \"2019\", \"2020\",\n",
    "        \"2021\", \"2022\", \"2023\",\n",
    "        \"2024\", \"2025\", \"2026\",\n",
    "        \"2027\", \"2028\", \"2029\",\n",
    "        \"2030\", \"2031\", \"2032\",\n",
    "        \"2033\", \"2034\", \"2035\",\n",
    "        \"2036\", \"2037\", \"2038\",\n",
    "        \"2039\", \"2040\", \"2041\",\n",
    "        \"2042\", \"2043\", \"2044\",\n",
    "        \"2045\", \"2046\", \"2047\",\n",
    "        \"2048\", \"2049\"\n",
    "    ],\n",
    "    \"month\": [\n",
    "        \"01\", \"02\", \"03\",\n",
    "        \"04\", \"05\", \"06\",\n",
    "        \"07\", \"08\", \"09\",\n",
    "        \"10\", \"11\", \"12\"\n",
    "    ],\n",
    "    \"area\": [63.5, 20.5, 63.3, 20.1],  # Zone : Nord, Ouest, Sud, Est\n",
    "}\n",
    "\n",
    "final_zip_path = os.path.join(data_dir, \"cds_output_vestmann_ssp5_8_5.zip\")\n",
    "client.retrieve(dataset, request).download(final_zip_path)\n"
   ]
  },
  {
   "cell_type": "markdown",
   "metadata": {},
   "source": [
    "#### Extraction du fichier ZIP"
   ]
  },
  {
   "cell_type": "code",
   "execution_count": null,
   "metadata": {},
   "outputs": [
    {
     "name": "stdout",
     "output_type": "stream",
     "text": [
      "Fichiers extraits dans : ./data/extracted_files\n"
     ]
    }
   ],
   "source": [
    "with zipfile.ZipFile(final_zip_path, 'r') as zip_ref:\n",
    "    zip_ref.extractall(temp_dir)  # Extraction dans extracted_files\n",
    "print(f\"Fichiers extraits dans : {temp_dir}\")"
   ]
  },
  {
   "cell_type": "markdown",
   "metadata": {},
   "source": [
    "#### Ecriture du fichier extrait sur le cloud MinIO Client"
   ]
  },
  {
   "cell_type": "code",
   "execution_count": null,
   "metadata": {},
   "outputs": [
    {
     "name": "stdout",
     "output_type": "stream",
     "text": [
      "['esam/diffusion']\n",
      "['esam/diffusion/cds_data/tos_Omon_HadGEM3-GC31-LL_historical_r1i1p1f3_gn_19500116-20141216.nc', 'esam/diffusion/cds_data/tos_Omon_HadGEM3-GC31-LL_ssp585_r1i1p1f3_gn_20150116-20490616.nc', 'esam/diffusion/cds_data/tos_Omon_HadGEM3-GC31-LL_ssp585_r1i1p1f3_gn_20150116-20491216.nc', 'esam/diffusion/cds_data/tos_Omon_MPI-ESM1-2-HR_historical_r1i1p1f1_gn_20000116-20140616.nc']\n"
     ]
    }
   ],
   "source": [
    "minio_path = f'{MY_BUCKET}/diffusion/cds_data/tos_Omon_HadGEM3-GC31-LL_ssp585_r1i1p1f3_gn_20150116-20491216.nc'\n",
    "\n",
    "\n",
    "with fs.open(minio_path, \"wb\") as minio_file:  # Fichier cible sur MinIO\n",
    "    with open(file_path, \"rb\") as local_file:  # Fichier source local\n",
    "        minio_file.write(local_file.read())\n",
    "\n",
    "print(fs.ls(f\"{MY_BUCKET}/diffusion/cds_data\"))"
   ]
  },
  {
   "cell_type": "markdown",
   "metadata": {},
   "source": [
    "### API CDS n°2 - SSP 1-2.6 (scénario le plus optimiste)\n",
    "Modèle : hadgem3_gc31_ll (UK)\n",
    "Données : prédictives [2015 - 2049] \n",
    "Localisation : îles Vestmann (Islande)\n",
    "Variable : Sea Surface Temperature"
   ]
  },
  {
   "cell_type": "markdown",
   "metadata": {},
   "source": [
    "#### Requête API"
   ]
  },
  {
   "cell_type": "code",
   "execution_count": null,
   "metadata": {},
   "outputs": [
    {
     "name": "stderr",
     "output_type": "stream",
     "text": [
      "2024-12-17 11:09:46,003 INFO Request ID is dfc1936d-c2dc-48a1-9726-72ca27843d2c\n",
      "2024-12-17 11:09:47,136 INFO status has been updated to accepted\n",
      "2024-12-17 11:09:53,236 INFO status has been updated to running\n",
      "2024-12-17 11:10:01,845 INFO status has been updated to successful\n",
      "                                                                                       \r"
     ]
    },
    {
     "data": {
      "text/plain": [
       "'./data/cds_output_vestmann_ssp1_2_6.zip'"
      ]
     },
     "execution_count": 17,
     "metadata": {},
     "output_type": "execute_result"
    }
   ],
   "source": [
    "dataset = \"projections-cmip6\"\n",
    "request = {\n",
    "    \"temporal_resolution\": \"monthly\",\n",
    "    \"experiment\": \"ssp1_2_6\",\n",
    "    \"variable\": \"sea_surface_temperature\",\n",
    "    \"model\": \"hadgem3_gc31_ll\",\n",
    "    \"year\": [\n",
    "        \"2015\", \"2016\", \"2017\",\n",
    "        \"2018\", \"2019\", \"2020\",\n",
    "        \"2021\", \"2022\", \"2023\",\n",
    "        \"2024\", \"2025\", \"2026\",\n",
    "        \"2027\", \"2028\", \"2029\",\n",
    "        \"2030\", \"2031\", \"2032\",\n",
    "        \"2033\", \"2034\", \"2035\",\n",
    "        \"2036\", \"2037\", \"2038\",\n",
    "        \"2039\", \"2040\", \"2041\",\n",
    "        \"2042\", \"2043\", \"2044\",\n",
    "        \"2045\", \"2046\", \"2047\",\n",
    "        \"2048\", \"2049\"\n",
    "    ],\n",
    "    \"month\": [\n",
    "        \"01\", \"02\", \"03\",\n",
    "        \"04\", \"05\", \"06\",\n",
    "        \"07\", \"08\", \"09\",\n",
    "        \"10\", \"11\", \"12\"\n",
    "    ],\n",
    "    \"area\": [63.5, 20.5, 63.3, 20.1],  # Zone : Nord, Ouest, Sud, Est\n",
    "}\n",
    "\n",
    "final_zip_path = os.path.join(data_dir, \"cds_output_vestmann_ssp1_2_6.zip\")\n",
    "client.retrieve(dataset, request).download(final_zip_path)\n"
   ]
  },
  {
   "cell_type": "markdown",
   "metadata": {},
   "source": [
    "#### Extraction du fichier ZIP"
   ]
  },
  {
   "cell_type": "code",
   "execution_count": null,
   "metadata": {},
   "outputs": [
    {
     "name": "stdout",
     "output_type": "stream",
     "text": [
      "Fichiers extraits dans : ./data/extracted_files\n"
     ]
    }
   ],
   "source": [
    "with zipfile.ZipFile(final_zip_path, 'r') as zip_ref:\n",
    "    zip_ref.extractall(temp_dir)  # Extraction dans extracted_files\n",
    "print(f\"Fichiers extraits dans : {temp_dir}\")"
   ]
  },
  {
   "cell_type": "markdown",
   "metadata": {},
   "source": [
    "#### Ecriture du fichier extrait sur le cloud MinIO Client"
   ]
  },
  {
   "cell_type": "code",
   "execution_count": null,
   "metadata": {},
   "outputs": [
    {
     "name": "stdout",
     "output_type": "stream",
     "text": [
      "['esam/diffusion']\n",
      "['esam/diffusion/cds_data/tos_Omon_HadGEM3-GC31-LL_historical_r1i1p1f3_gn_19500116-20141216.nc', 'esam/diffusion/cds_data/tos_Omon_HadGEM3-GC31-LL_ssp126_r1i1p1f3_gn_20150116-20491216.nc', 'esam/diffusion/cds_data/tos_Omon_HadGEM3-GC31-LL_ssp585_r1i1p1f3_gn_20150116-20491216.nc']\n"
     ]
    }
   ],
   "source": [
    "minio_path = f'{MY_BUCKET}/diffusion/cds_data/tos_Omon_HadGEM3-GC31-LL_ssp126_r1i1p1f3_gn_20150116-20491216.nc'\n",
    "\n",
    "\n",
    "with fs.open(minio_path, \"wb\") as minio_file:  # Fichier cible sur MinIO\n",
    "    with open(file_path, \"rb\") as local_file:  # Fichier source local\n",
    "        minio_file.write(local_file.read())\n",
    "\n",
    "print(fs.ls(f\"{MY_BUCKET}/diffusion/cds_data\"))"
   ]
  },
  {
   "cell_type": "markdown",
   "metadata": {},
   "source": [
    "### API CDS n°4 - SSP 2-4.5 (scénario intermédiaire)\n",
    "Modèle : hadgem3_gc31_ll (UK)\n",
    "Données : prédictives [2015 - 2049] \n",
    "Localisation : îles Vestmann (Islande)\n",
    "Variable : Sea Surface Temperature"
   ]
  },
  {
   "cell_type": "markdown",
   "metadata": {},
   "source": [
    "#### Requête API"
   ]
  },
  {
   "cell_type": "code",
   "execution_count": null,
   "metadata": {},
   "outputs": [
    {
     "name": "stderr",
     "output_type": "stream",
     "text": [
      "2024-12-17 11:13:06,806 INFO Request ID is 772c0b77-2eb8-4449-a197-29b53e86e197\n",
      "2024-12-17 11:13:06,897 INFO status has been updated to accepted\n",
      "2024-12-17 11:13:15,648 INFO status has been updated to running\n",
      "2024-12-17 11:13:28,495 INFO status has been updated to successful\n",
      "                                                                                        \r"
     ]
    },
    {
     "data": {
      "text/plain": [
       "'./data/cds_output_vestmann_ssp2_4_5.zip'"
      ]
     },
     "execution_count": 20,
     "metadata": {},
     "output_type": "execute_result"
    }
   ],
   "source": [
    "dataset = \"projections-cmip6\"\n",
    "request = {\n",
    "    \"temporal_resolution\": \"monthly\",\n",
    "    \"experiment\": \"ssp2_4_5\",\n",
    "    \"variable\": \"sea_surface_temperature\",\n",
    "    \"model\": \"hadgem3_gc31_ll\",\n",
    "    \"year\": [\n",
    "        \"2015\", \"2016\", \"2017\",\n",
    "        \"2018\", \"2019\", \"2020\",\n",
    "        \"2021\", \"2022\", \"2023\",\n",
    "        \"2024\", \"2025\", \"2026\",\n",
    "        \"2027\", \"2028\", \"2029\",\n",
    "        \"2030\", \"2031\", \"2032\",\n",
    "        \"2033\", \"2034\", \"2035\",\n",
    "        \"2036\", \"2037\", \"2038\",\n",
    "        \"2039\", \"2040\", \"2041\",\n",
    "        \"2042\", \"2043\", \"2044\",\n",
    "        \"2045\", \"2046\", \"2047\",\n",
    "        \"2048\", \"2049\"\n",
    "    ],\n",
    "    \"month\": [\n",
    "        \"01\", \"02\", \"03\",\n",
    "        \"04\", \"05\", \"06\",\n",
    "        \"07\", \"08\", \"09\",\n",
    "        \"10\", \"11\", \"12\"\n",
    "    ],\n",
    "    \"area\": [63.5, 20.5, 63.3, 20.1],  # Zone : Nord, Ouest, Sud, Est\n",
    "}\n",
    "\n",
    "final_zip_path = os.path.join(data_dir, \"cds_output_vestmann_ssp2_4_5.zip\")\n",
    "client.retrieve(dataset, request).download(final_zip_path)"
   ]
  },
  {
   "cell_type": "markdown",
   "metadata": {},
   "source": [
    "#### Extraction du fichier ZIP"
   ]
  },
  {
   "cell_type": "code",
   "execution_count": null,
   "metadata": {},
   "outputs": [
    {
     "name": "stdout",
     "output_type": "stream",
     "text": [
      "Fichiers extraits dans : ./data/extracted_files\n"
     ]
    }
   ],
   "source": [
    "with zipfile.ZipFile(final_zip_path, 'r') as zip_ref:\n",
    "    zip_ref.extractall(temp_dir)  # Extraction dans extracted_files\n",
    "print(f\"Fichiers extraits dans : {temp_dir}\")"
   ]
  },
  {
   "cell_type": "markdown",
   "metadata": {},
   "source": [
    "#### Ecriture du fichier extrait sur le cloud MinIO Client"
   ]
  },
  {
   "cell_type": "code",
   "execution_count": null,
   "metadata": {},
   "outputs": [
    {
     "name": "stdout",
     "output_type": "stream",
     "text": [
      "['esam/diffusion']\n",
      "['esam/diffusion/cds_data/tos_Omon_HadGEM3-GC31-LL_historical_r1i1p1f3_gn_19500116-20141216.nc', 'esam/diffusion/cds_data/tos_Omon_HadGEM3-GC31-LL_ssp126_r1i1p1f3_gn_20150116-20491216.nc', 'esam/diffusion/cds_data/tos_Omon_HadGEM3-GC31-LL_ssp245_r1i1p1f3_gn_20150116-20491216.nc', 'esam/diffusion/cds_data/tos_Omon_HadGEM3-GC31-LL_ssp585_r1i1p1f3_gn_20150116-20491216.nc']\n"
     ]
    }
   ],
   "source": [
    "minio_path = f'{MY_BUCKET}/diffusion/cds_data/tos_Omon_HadGEM3-GC31-LL_ssp245_r1i1p1f3_gn_20150116-20491216.nc'\n",
    "\n",
    "\n",
    "with fs.open(minio_path, \"wb\") as minio_file:  # Fichier cible sur MinIO\n",
    "    with open(file_path, \"rb\") as local_file:  # Fichier source local\n",
    "        minio_file.write(local_file.read())\n",
    "\n",
    "print(fs.ls(f\"{MY_BUCKET}/diffusion/cds_data\"))"
   ]
  },
  {
   "cell_type": "markdown",
   "metadata": {},
   "source": [
    "## Données relatives aux Atlantic puffins (macareux moines)"
   ]
  },
  {
   "cell_type": "markdown",
   "metadata": {},
   "source": [
    "### Conversion des feuilles de données Excel en fichiers CSV"
   ]
  },
  {
   "cell_type": "code",
   "execution_count": null,
   "metadata": {},
   "outputs": [
    {
     "name": "stdout",
     "output_type": "stream",
     "text": [
      "Feuille 'Title page' enregistrée dans : ./data/puffin-data1_Title page.csv\n",
      "Feuille 'Data' enregistrée dans : ./data/puffin-data1_Data.csv\n",
      "Feuille 'Explanations (Data)' enregistrée dans : ./data/puffin-data1_Explanations (Data).csv\n",
      "Feuille 'Colonies' enregistrée dans : ./data/puffin-data1_Colonies.csv\n",
      "Feuille 'Explanations (Colonies)' enregistrée dans : ./data/puffin-data1_Explanations (Colonies).csv\n"
     ]
    }
   ],
   "source": [
    "excel_file = \"./data/puffin-datas1.xlsx\"  # Remplacez par le chemin de votre fichier Excel\n",
    "# 3. Charger toutes les feuilles du fichier Excel\n",
    "xls = pd.ExcelFile(excel_file)\n",
    "\n",
    "for sheet_name in xls.sheet_names:\n",
    "    df = pd.read_excel(xls, sheet_name=sheet_name)\n",
    "    csv_file = os.path.join(data_dir, f\"puffin-data1_{sheet_name}.csv\")\n",
    "    \n",
    "    # Sauvegarder la feuille en CSV\n",
    "    df.to_csv(csv_file, index=False, encoding=\"utf-8\")\n",
    "    print(f\"Feuille '{sheet_name}' enregistrée dans : {csv_file}\")"
   ]
  },
  {
   "cell_type": "markdown",
   "metadata": {},
   "source": [
    "### Ecriture des nouveaux fichiers CSV dans le cloud MinIO Client"
   ]
  },
  {
   "cell_type": "code",
   "execution_count": null,
   "metadata": {},
   "outputs": [
    {
     "ename": "SyntaxError",
     "evalue": "invalid syntax (3253326501.py, line 2)",
     "output_type": "error",
     "traceback": [
      "\u001b[0;36m  Cell \u001b[0;32mIn[28], line 2\u001b[0;36m\u001b[0m\n\u001b[0;31m    fs.exists(folder_path):\u001b[0m\n\u001b[0m                          ^\u001b[0m\n\u001b[0;31mSyntaxError\u001b[0m\u001b[0;31m:\u001b[0m invalid syntax\n"
     ]
    }
   ],
   "source": [
    "minio_path = f'{MY_BUCKET}/diffusion/cds_data/tos_Omon_HadGEM3-GC31-LL_ssp126_r1i1p1f3_gn_20150116-20491216.nc'\n",
    "\n",
    "\n",
    "with fs.open(minio_path, \"wb\") as minio_file:  # Fichier cible sur MinIO\n",
    "    with open(file_path, \"rb\") as local_file:  # Fichier source local\n",
    "        minio_file.write(local_file.read())\n",
    "\n",
    "print(fs.ls(f\"{MY_BUCKET}/diffusion/cds_data\"))"
   ]
  },
  {
   "cell_type": "code",
   "execution_count": null,
   "metadata": {},
   "outputs": [],
   "source": []
  },
  {
   "cell_type": "markdown",
   "metadata": {},
   "source": [
    "## Fichiers SeaBirdTracking - BirdLife "
   ]
  },
  {
   "cell_type": "code",
   "execution_count": 19,
   "metadata": {},
   "outputs": [
    {
     "ename": "FileNotFoundError",
     "evalue": "[Errno 2] No such file or directory: 'esam/diffusion/SeaBirdTracking/./data/Dataset_15338_1072_Atlantic_Puffin_from_Papey_GL_imported.csv'",
     "output_type": "error",
     "traceback": [
      "\u001b[0;31m---------------------------------------------------------------------------\u001b[0m",
      "\u001b[0;31mFileNotFoundError\u001b[0m                         Traceback (most recent call last)",
      "Cell \u001b[0;32mIn[19], line 16\u001b[0m\n\u001b[1;32m     14\u001b[0m minio_path \u001b[38;5;241m=\u001b[39m \u001b[38;5;124mf\u001b[39m\u001b[38;5;124m'\u001b[39m\u001b[38;5;132;01m{\u001b[39;00mMY_BUCKET\u001b[38;5;132;01m}\u001b[39;00m\u001b[38;5;124m/diffusion/SeaBirdTracking/\u001b[39m\u001b[38;5;132;01m{\u001b[39;00mfile_name\u001b[38;5;132;01m}\u001b[39;00m\u001b[38;5;124m'\u001b[39m\n\u001b[1;32m     15\u001b[0m data \u001b[38;5;241m=\u001b[39m pd\u001b[38;5;241m.\u001b[39mread_csv(file_name)\n\u001b[0;32m---> 16\u001b[0m \u001b[38;5;28;01mwith\u001b[39;00m \u001b[38;5;28;43mopen\u001b[39;49m\u001b[43m(\u001b[49m\u001b[43mminio_path\u001b[49m\u001b[43m,\u001b[49m\u001b[43m \u001b[49m\u001b[38;5;124;43m'\u001b[39;49m\u001b[38;5;124;43mw\u001b[39;49m\u001b[38;5;124;43m'\u001b[39;49m\u001b[43m)\u001b[49m \u001b[38;5;28;01mas\u001b[39;00m f:\n\u001b[1;32m     17\u001b[0m     data\u001b[38;5;241m.\u001b[39mto_csv(f, index\u001b[38;5;241m=\u001b[39m\u001b[38;5;28;01mFalse\u001b[39;00m)\n\u001b[1;32m     19\u001b[0m \u001b[38;5;28mprint\u001b[39m(\u001b[38;5;124mf\u001b[39m\u001b[38;5;124m\"\u001b[39m\u001b[38;5;124mUploaded \u001b[39m\u001b[38;5;132;01m{\u001b[39;00mfile_name\u001b[38;5;132;01m}\u001b[39;00m\u001b[38;5;124m to \u001b[39m\u001b[38;5;132;01m{\u001b[39;00mminio_path\u001b[38;5;132;01m}\u001b[39;00m\u001b[38;5;124m\"\u001b[39m)\n",
      "File \u001b[0;32m/opt/conda/lib/python3.12/site-packages/IPython/core/interactiveshell.py:324\u001b[0m, in \u001b[0;36m_modified_open\u001b[0;34m(file, *args, **kwargs)\u001b[0m\n\u001b[1;32m    317\u001b[0m \u001b[38;5;28;01mif\u001b[39;00m file \u001b[38;5;129;01min\u001b[39;00m {\u001b[38;5;241m0\u001b[39m, \u001b[38;5;241m1\u001b[39m, \u001b[38;5;241m2\u001b[39m}:\n\u001b[1;32m    318\u001b[0m     \u001b[38;5;28;01mraise\u001b[39;00m \u001b[38;5;167;01mValueError\u001b[39;00m(\n\u001b[1;32m    319\u001b[0m         \u001b[38;5;124mf\u001b[39m\u001b[38;5;124m\"\u001b[39m\u001b[38;5;124mIPython won\u001b[39m\u001b[38;5;124m'\u001b[39m\u001b[38;5;124mt let you open fd=\u001b[39m\u001b[38;5;132;01m{\u001b[39;00mfile\u001b[38;5;132;01m}\u001b[39;00m\u001b[38;5;124m by default \u001b[39m\u001b[38;5;124m\"\u001b[39m\n\u001b[1;32m    320\u001b[0m         \u001b[38;5;124m\"\u001b[39m\u001b[38;5;124mas it is likely to crash IPython. If you know what you are doing, \u001b[39m\u001b[38;5;124m\"\u001b[39m\n\u001b[1;32m    321\u001b[0m         \u001b[38;5;124m\"\u001b[39m\u001b[38;5;124myou can use builtins\u001b[39m\u001b[38;5;124m'\u001b[39m\u001b[38;5;124m open.\u001b[39m\u001b[38;5;124m\"\u001b[39m\n\u001b[1;32m    322\u001b[0m     )\n\u001b[0;32m--> 324\u001b[0m \u001b[38;5;28;01mreturn\u001b[39;00m \u001b[43mio_open\u001b[49m\u001b[43m(\u001b[49m\u001b[43mfile\u001b[49m\u001b[43m,\u001b[49m\u001b[43m \u001b[49m\u001b[38;5;241;43m*\u001b[39;49m\u001b[43margs\u001b[49m\u001b[43m,\u001b[49m\u001b[43m \u001b[49m\u001b[38;5;241;43m*\u001b[39;49m\u001b[38;5;241;43m*\u001b[39;49m\u001b[43mkwargs\u001b[49m\u001b[43m)\u001b[49m\n",
      "\u001b[0;31mFileNotFoundError\u001b[0m: [Errno 2] No such file or directory: 'esam/diffusion/SeaBirdTracking/./data/Dataset_15338_1072_Atlantic_Puffin_from_Papey_GL_imported.csv'"
     ]
    }
   ],
   "source": [
    "data_list = [\n",
    "    \"./data/Dataset_15338_1072_Atlantic_Puffin_from_Papey_GL_imported.csv\", \n",
    "    \"./data/Dataset_15339_1073_Atlantic_Puffin_from_Grimsey__imported.csv\", \n",
    "    \"./data/Dataset_15340_1074_Atlantic_Puffin_from_Heimaey__imported.csv\",\n",
    "    \"./data/Dataset_15387_1125_Atlantin_Puffin_Papey_2014-2_imported.csv\", \n",
    "    \"./data/Dataset_15388_1126_Atlantic_Puffin_Grmsey_201_imported.csv\", \n",
    "    \"./data/Dataset_15389_1127_Atlantic_Puffin_Strhfi_imported.csv\",\n",
    "    \"./data/Dataset_15390_1128_Atlantic_Puffin_Flatey_Island_imported.csv\", \n",
    "    \"./data/Dataset_15823_1656_Atlantic_puffin_GPS_Grimsey_imported.csv\",\n",
    "    \"./data/Dataset_15824_1657_Atlantic_puffin_GPS_Heimaey_imported.csv\"\n",
    "]\n",
    "\n",
    "for file_name in data_list:\n",
    "    minio_path = f'{MY_BUCKET}/diffusion/SeaBirdTracking/{file_name}'\n",
    "    data = pd.read_csv(file_name)\n",
    "    with open(minio_path, 'w') as f:\n",
    "        data.to_csv(f, index=False)\n",
    "    \n",
    "    print(f\"Uploaded {file_name} to {minio_path}\")"
   ]
  }
 ],
 "metadata": {
  "kernelspec": {
   "display_name": "base",
   "language": "python",
   "name": "python3"
  },
  "language_info": {
   "codemirror_mode": {
    "name": "ipython",
    "version": 3
   },
   "file_extension": ".py",
   "mimetype": "text/x-python",
   "name": "python",
   "nbconvert_exporter": "python",
   "pygments_lexer": "ipython3",
   "version": "3.12.7"
  }
 },
 "nbformat": 4,
 "nbformat_minor": 2
}
