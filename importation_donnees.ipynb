{
 "cells": [
  {
   "cell_type": "markdown",
   "id": "3f8beed8-6ac7-45a2-bce9-bdc734d3e8ca",
   "metadata": {},
   "source": [
    "Zones ornythologiques importantes de l'Islande "
   ]
  },
  {
   "cell_type": "code",
   "execution_count": null,
   "id": "853b2a9e-28c8-484a-a903-032b9e7fce64",
   "metadata": {},
   "outputs": [],
   "source": [
    "import geopandas as gpd\n",
    "import matplotlib.pyplot as plt\n",
    "\n",
    "# Chemin vers le fichier .shp\n",
    "fichier_shp = \"/home/onyxia/work/projet_python_2024_ENSAE/NI_F25v_mikilvaegFuglasvaedi_SHP\"\n",
    "\n",
    "# Lecture du fichier shapefile\n",
    "gdf = gpd.read_file(fichier_shp)\n",
    "\n",
    "# Affichage des premières lignes du GeoDataFrame\n",
    "print(gdf.head())\n",
    "\n",
    "# Afficher le système de projection (CRS)\n",
    "print(gdf.crs)\n",
    "\n",
    "# Afficher la colonne géométrie\n",
    "print(gdf.geometry)\n",
    "\n",
    "# Affichage de la carte\n",
    "gdf.plot(edgecolor='black', cmap='Set2', figsize=(10, 10))\n",
    "plt.title(\"Carte du Shapefile\")\n",
    "plt.xlabel(\"Longitude\")\n",
    "plt.ylabel(\"Latitude\")\n",
    "plt.grid()\n",
    "plt.show()"
   ]
  },
  {
   "cell_type": "code",
   "execution_count": null,
   "id": "09e681b7-b5ba-493a-bc34-0dfff8351e58",
   "metadata": {},
   "outputs": [],
   "source": []
  },
  {
   "cell_type": "code",
   "execution_count": null,
   "id": "b2f426ff-c051-426c-b103-cb5cc373506e",
   "metadata": {},
   "outputs": [],
   "source": []
  }
 ],
 "metadata": {
  "kernelspec": {
   "display_name": "Python 3 (ipykernel)",
   "language": "python",
   "name": "python3"
  },
  "language_info": {
   "codemirror_mode": {
    "name": "ipython",
    "version": 3
   },
   "file_extension": ".py",
   "mimetype": "text/x-python",
   "name": "python",
   "nbconvert_exporter": "python",
   "pygments_lexer": "ipython3",
   "version": "3.12.6"
  }
 },
 "nbformat": 4,
 "nbformat_minor": 5
}
