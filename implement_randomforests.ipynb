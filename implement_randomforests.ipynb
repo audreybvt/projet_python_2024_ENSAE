{
 "cells": [
  {
   "cell_type": "markdown",
   "metadata": {},
   "source": [
    "Objectif : utiliser des random forests afin de prédire l'évolution de l'espèce en fonction du changement climatique dans le temps et l'espace"
   ]
  },
  {
   "cell_type": "code",
   "execution_count": 1,
   "metadata": {},
   "outputs": [],
   "source": [
    "import pandas as pd\n",
    "import numpy as np\n",
    "from sklearn.model_selection import train_test_split\n",
    "from sklearn.ensemble import RandomForestRegressor\n",
    "from sklearn.metrics import mean_squared_error, r2_score\n",
    "import matplotlib.pyplot as plt\n",
    "import s3fs "
   ]
  },
  {
   "cell_type": "markdown",
   "metadata": {},
   "source": [
    "1. retrieving data from the MinIO Client cloud \n",
    "\n",
    "Data on Atlantic puffins : hvf\n",
    "Data on climate change  "
   ]
  },
  {
   "cell_type": "code",
   "execution_count": null,
   "metadata": {},
   "outputs": [
    {
     "name": "stdout",
     "output_type": "stream",
     "text": [
      "   Year                      Src   C     Harv  Als  Bjar  Bran  Clbx  Elli  \\\n",
      "0  1898  corrected public record NaN  84079.0  NaN   NaN   NaN   NaN   NaN   \n",
      "1  1899  corrected public record NaN  50639.0  NaN   NaN   NaN   NaN   NaN   \n",
      "2  1900  corrected public record NaN  50611.0  NaN   NaN   NaN   NaN   NaN   \n",
      "3  1901  corrected public record NaN  74694.0  NaN   NaN   NaN   NaN   NaN   \n",
      "4  1902  corrected public record NaN  59129.0  NaN   NaN   NaN   NaN   NaN   \n",
      "\n",
      "   Hani  Heim  Hell  Stor  Ysti     Publ  Expc Corr HeiY AlsT HeiT  \n",
      "0   NaN   NaN   NaN   NaN   NaN  57394.0   NaN  NaN  NaN  NaN  NaN  \n",
      "1   NaN   NaN   NaN   NaN   NaN  34567.0   NaN  NaN  NaN  NaN  NaN  \n",
      "2   NaN   NaN   NaN   NaN   NaN  34548.0   NaN  NaN  NaN  NaN  NaN  \n",
      "3   NaN   NaN   NaN   NaN   NaN  50988.0   NaN  NaN  NaN  NaN  NaN  \n",
      "4   NaN   NaN   NaN   NaN   NaN  40363.0   NaN  NaN  NaN  NaN  NaN  \n",
      "   Year                      Src   C     Harv  Als  Bjar  Bran  Clbx  Elli  \\\n",
      "0  1898  corrected public record NaN  84079.0  NaN   NaN   NaN   NaN   NaN   \n",
      "1  1899  corrected public record NaN  50639.0  NaN   NaN   NaN   NaN   NaN   \n",
      "2  1900  corrected public record NaN  50611.0  NaN   NaN   NaN   NaN   NaN   \n",
      "3  1901  corrected public record NaN  74694.0  NaN   NaN   NaN   NaN   NaN   \n",
      "4  1902  corrected public record NaN  59129.0  NaN   NaN   NaN   NaN   NaN   \n",
      "\n",
      "   Hani  Heim  Hell  Stor  Ysti     Publ  Expc Corr HeiY AlsT HeiT  \n",
      "0   NaN   NaN   NaN   NaN   NaN  57394.0   NaN  NaN  NaN  NaN  NaN  \n",
      "1   NaN   NaN   NaN   NaN   NaN  34567.0   NaN  NaN  NaN  NaN  NaN  \n",
      "2   NaN   NaN   NaN   NaN   NaN  34548.0   NaN  NaN  NaN  NaN  NaN  \n",
      "3   NaN   NaN   NaN   NaN   NaN  50988.0   NaN  NaN  NaN  NaN  NaN  \n",
      "4   NaN   NaN   NaN   NaN   NaN  40363.0   NaN  NaN  NaN  NaN  NaN  \n"
     ]
    }
   ],
   "source": [
    "fs = s3fs.S3FileSystem(client_kwargs={\"endpoint_url\": \"https://minio.lab.sspcloud.fr\"})\n",
    "BUCKET = \"esam\"\n",
    "\n",
    "# Puffin data \n",
    "colonies_path = f\"{BUCKET}/diffusion/puffin_data/puffin-data1_Colonies.csv\"\n",
    "with fs.open(colonies_path, \"r\") as f:  \n",
    "        colonies_data = pd.read_csv(f)\n",
    "print(colonies_data.head())\n",
    "\n",
    "data_path = f'{BUCKET}/diffusion/puffin_data/puffin-data1_Colonies.csv'\n",
    "with fs.open(data_path, \"r\") as f:  \n",
    "        puffin_data = pd.read_csv(f)\n",
    "print(puffin_data.head())\n",
    "\n",
    "# Copernicus data \n",
    "historical_path = f'{BUCKET}/'\n"
   ]
  },
  {
   "cell_type": "code",
   "execution_count": null,
   "metadata": {},
   "outputs": [],
   "source": [
    "import pandas as pd\n",
    "import numpy as np\n",
    "from sklearn.model_selection import train_test_split\n",
    "from sklearn.ensemble import RandomForestRegressor\n",
    "from sklearn.metrics import mean_squared_error, r2_score\n",
    "import matplotlib.pyplot as plt\n",
    "\n",
    "# 1. Charger les données\n",
    "data = pd.read_csv('puffins_data.csv')\n",
    "\n",
    "# 2. Définir les variables explicatives et cible\n",
    "X = data[['Latitude', 'Longitude', 'SST_Janvier', 'SST_Juin', 'Année']]\n",
    "y = data['Observations_Puffins']\n",
    "\n",
    "# 3. Diviser les données en train et test\n",
    "X_train, X_test, y_train, y_test = train_test_split(X, y, test_size=0.2, random_state=42)\n",
    "\n",
    "# 4. Initialiser et entraîner le modèle\n",
    "rf_model = RandomForestRegressor(n_estimators=100, random_state=42)\n",
    "rf_model.fit(X_train, y_train)\n",
    "\n",
    "# 5. Prédire et évaluer le modèle\n",
    "y_pred = rf_model.predict(X_test)\n",
    "rmse = mean_squared_error(y_test, y_pred, squared=False)\n",
    "r2 = r2_score(y_test, y_pred)\n",
    "\n",
    "print(f'RMSE: {rmse:.2f}')\n",
    "print(f'R²: {r2:.2f}')\n",
    "\n",
    "# 6. Analyser l'importance des variables\n",
    "importances = rf_model.feature_importances_\n",
    "features = X.columns\n",
    "\n",
    "plt.figure(figsize=(8, 6))\n",
    "plt.barh(features, importances)\n",
    "plt.xlabel('Importance')\n",
    "plt.ylabel('Variables')\n",
    "plt.title('Importance des variables dans le modèle Random Forest')\n",
    "plt.show()\n",
    "\n",
    "# 7. Prédictions futures\n",
    "new_data = pd.DataFrame({\n",
    "    'Latitude': [65.0, 66.5],\n",
    "    'Longitude': [-18.0, -17.5],\n",
    "    'SST_Janvier': [5.2, 4.8],\n",
    "    'SST_Juin': [8.1, 7.9],\n",
    "    'Année': [2015, 2016]\n",
    "})\n",
    "\n",
    "predictions = rf_model.predict(new_data)\n",
    "print(f'Prédictions : {predictions}')\n"
   ]
  }
 ],
 "metadata": {
  "kernelspec": {
   "display_name": "base",
   "language": "python",
   "name": "python3"
  },
  "language_info": {
   "codemirror_mode": {
    "name": "ipython",
    "version": 3
   },
   "file_extension": ".py",
   "mimetype": "text/x-python",
   "name": "python",
   "nbconvert_exporter": "python",
   "pygments_lexer": "ipython3",
   "version": "3.12.7"
  }
 },
 "nbformat": 4,
 "nbformat_minor": 2
}
