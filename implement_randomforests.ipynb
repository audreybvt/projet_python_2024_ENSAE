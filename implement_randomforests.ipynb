{
 "cells": [
  {
   "cell_type": "markdown",
   "metadata": {},
   "source": [
    "Objectif : utiliser des random forests afin de prédire l'évolution de l'espèce en fonction du changement climatique dans le temps et l'espace"
   ]
  },
  {
   "cell_type": "code",
   "execution_count": 3,
   "metadata": {},
   "outputs": [],
   "source": [
    "import pandas as pd\n",
    "import numpy as np\n",
    "import xarray as xr\n",
    "from netCDF4 import Dataset\n",
    "from sklearn.model_selection import train_test_split\n",
    "from sklearn.ensemble import RandomForestRegressor\n",
    "from sklearn.metrics import mean_squared_error, r2_score\n",
    "import matplotlib.pyplot as plt\n",
    "import s3fs "
   ]
  },
  {
   "cell_type": "markdown",
   "metadata": {},
   "source": [
    "1. retrieving data from the MinIO Client cloud \n",
    "\n",
    "Data on Atlantic puffins : hvf\n",
    "Data on climate change  "
   ]
  },
  {
   "cell_type": "code",
   "execution_count": 25,
   "metadata": {},
   "outputs": [
    {
     "name": "stdout",
     "output_type": "stream",
     "text": [
      "Available engines in xarray: {'scipy': <ScipyBackendEntrypoint>\n",
      "  Open netCDF files (.nc, .nc4, .cdf and .gz) using scipy in Xarray\n",
      "  Learn more at https://docs.xarray.dev/en/stable/generated/xarray.backends.ScipyBackendEntrypoint.html, 'store': <StoreBackendEntrypoint>\n",
      "  Open AbstractDataStore instances in Xarray\n",
      "  Learn more at https://docs.xarray.dev/en/stable/generated/xarray.backends.StoreBackendEntrypoint.html}\n"
     ]
    }
   ],
   "source": [
    "import xarray as xr\n",
    "\n",
    "print(\"Available engines in xarray:\", xr.backends.list_engines())\n",
    "\n"
   ]
  },
  {
   "cell_type": "code",
   "execution_count": 8,
   "metadata": {},
   "outputs": [
    {
     "ename": "FileNotFoundError",
     "evalue": "[Errno 2] No such file or directory: '.data/temp_file.nc'",
     "output_type": "error",
     "traceback": [
      "\u001b[0;31m---------------------------------------------------------------------------\u001b[0m",
      "\u001b[0;31mFileNotFoundError\u001b[0m                         Traceback (most recent call last)",
      "Cell \u001b[0;32mIn[8], line 23\u001b[0m\n\u001b[1;32m     21\u001b[0m local_file \u001b[38;5;241m=\u001b[39m \u001b[38;5;124m\"\u001b[39m\u001b[38;5;124m.data/temp_file.nc\u001b[39m\u001b[38;5;124m\"\u001b[39m\n\u001b[1;32m     22\u001b[0m \u001b[38;5;28;01mwith\u001b[39;00m fs\u001b[38;5;241m.\u001b[39mopen(file_path, \u001b[38;5;124m\"\u001b[39m\u001b[38;5;124mrb\u001b[39m\u001b[38;5;124m\"\u001b[39m) \u001b[38;5;28;01mas\u001b[39;00m f:\n\u001b[0;32m---> 23\u001b[0m     \u001b[38;5;28;01mwith\u001b[39;00m \u001b[38;5;28;43mopen\u001b[39;49m\u001b[43m(\u001b[49m\u001b[43mlocal_file\u001b[49m\u001b[43m,\u001b[49m\u001b[43m \u001b[49m\u001b[38;5;124;43m\"\u001b[39;49m\u001b[38;5;124;43mwb\u001b[39;49m\u001b[38;5;124;43m\"\u001b[39;49m\u001b[43m)\u001b[49m \u001b[38;5;28;01mas\u001b[39;00m temp:\n\u001b[1;32m     24\u001b[0m         temp\u001b[38;5;241m.\u001b[39mwrite(f\u001b[38;5;241m.\u001b[39mread())\n\u001b[1;32m     26\u001b[0m \u001b[38;5;66;03m# Lecture avec xarray\u001b[39;00m\n",
      "File \u001b[0;32m/opt/conda/lib/python3.12/site-packages/IPython/core/interactiveshell.py:324\u001b[0m, in \u001b[0;36m_modified_open\u001b[0;34m(file, *args, **kwargs)\u001b[0m\n\u001b[1;32m    317\u001b[0m \u001b[38;5;28;01mif\u001b[39;00m file \u001b[38;5;129;01min\u001b[39;00m {\u001b[38;5;241m0\u001b[39m, \u001b[38;5;241m1\u001b[39m, \u001b[38;5;241m2\u001b[39m}:\n\u001b[1;32m    318\u001b[0m     \u001b[38;5;28;01mraise\u001b[39;00m \u001b[38;5;167;01mValueError\u001b[39;00m(\n\u001b[1;32m    319\u001b[0m         \u001b[38;5;124mf\u001b[39m\u001b[38;5;124m\"\u001b[39m\u001b[38;5;124mIPython won\u001b[39m\u001b[38;5;124m'\u001b[39m\u001b[38;5;124mt let you open fd=\u001b[39m\u001b[38;5;132;01m{\u001b[39;00mfile\u001b[38;5;132;01m}\u001b[39;00m\u001b[38;5;124m by default \u001b[39m\u001b[38;5;124m\"\u001b[39m\n\u001b[1;32m    320\u001b[0m         \u001b[38;5;124m\"\u001b[39m\u001b[38;5;124mas it is likely to crash IPython. If you know what you are doing, \u001b[39m\u001b[38;5;124m\"\u001b[39m\n\u001b[1;32m    321\u001b[0m         \u001b[38;5;124m\"\u001b[39m\u001b[38;5;124myou can use builtins\u001b[39m\u001b[38;5;124m'\u001b[39m\u001b[38;5;124m open.\u001b[39m\u001b[38;5;124m\"\u001b[39m\n\u001b[1;32m    322\u001b[0m     )\n\u001b[0;32m--> 324\u001b[0m \u001b[38;5;28;01mreturn\u001b[39;00m \u001b[43mio_open\u001b[49m\u001b[43m(\u001b[49m\u001b[43mfile\u001b[49m\u001b[43m,\u001b[49m\u001b[43m \u001b[49m\u001b[38;5;241;43m*\u001b[39;49m\u001b[43margs\u001b[49m\u001b[43m,\u001b[49m\u001b[43m \u001b[49m\u001b[38;5;241;43m*\u001b[39;49m\u001b[38;5;241;43m*\u001b[39;49m\u001b[43mkwargs\u001b[49m\u001b[43m)\u001b[49m\n",
      "\u001b[0;31mFileNotFoundError\u001b[0m: [Errno 2] No such file or directory: '.data/temp_file.nc'"
     ]
    }
   ],
   "source": [
    "fs = s3fs.S3FileSystem(client_kwargs={\"endpoint_url\": \"https://minio.lab.sspcloud.fr\"})\n",
    "BUCKET = \"esam\"\n",
    "\n",
    "# Puffin data \n",
    "colonies_path = f\"{BUCKET}/diffusion/puffin_data/puffin-data1_Colonies.csv\"\n",
    "with fs.open(colonies_path, \"r\") as f:  \n",
    "        colonies_data = pd.read_csv(f)\n",
    "\n",
    "data_path = f'{BUCKET}/diffusion/puffin_data/puffin-data1_Colonies.csv'\n",
    "with fs.open(data_path, \"r\") as f:  \n",
    "        puffin_data = pd.read_csv(f)\n",
    "\n",
    "# Copernicus data \n",
    "dataframes = []\n",
    "files_in_folder = fs.ls(f'{BUCKET}/diffusion/cds_data') \n",
    "\n",
    "\n",
    "file_path = \"esam/diffusion/cds_data/tos_Omon_HadGEM3-GC31-LL_historical_r1i1p1f3_gn_19500116-20141216.nc\"\n",
    "\n",
    "\n",
    "local_file = \".data/temp_file.nc\"\n",
    "with fs.open(file_path, \"rb\") as f:\n",
    "    with open(local_file, \"wb\") as temp:\n",
    "        temp.write(f.read())\n",
    "\n",
    "# Lecture avec xarray\n",
    "dataset = xr.open_dataset(local_file, engine=\"netcdf4\")\n",
    "print(dataset)\n"
   ]
  },
  {
   "cell_type": "markdown",
   "metadata": {},
   "source": [
    "Remark : netCDF4 files or how to pull out your hair\n"
   ]
  },
  {
   "cell_type": "code",
   "execution_count": null,
   "metadata": {},
   "outputs": [],
   "source": [
    "#for file_path in files_in_folder:\n",
    "        with fs.open(file_path, \"r\") as f:\n",
    "                dataset = xr.open_dataset(f, engine=\"netcdf4\")  # Charger le fichier NetCDF\n",
    "                print(dataset)\n",
    "                df = dataset.to_dataframe().reset_index()\n",
    "                dataframes.append(df) \n",
    "\n",
    "\n",
    "if dataframes:\n",
    "    print(f\"Extracted {len(dataframes)} DataFrames:\")\n",
    "    for i, df in enumerate(dataframes):\n",
    "        print(f\"DataFrame {i+1}: shape={df.shape}, columns={df.columns.tolist()}\")\n",
    "else:\n",
    "    print(\"No DataFrames extracted.\")"
   ]
  },
  {
   "cell_type": "code",
   "execution_count": null,
   "metadata": {},
   "outputs": [],
   "source": [
    "import pandas as pd\n",
    "import numpy as np\n",
    "from sklearn.model_selection import train_test_split\n",
    "from sklearn.ensemble import RandomForestRegressor\n",
    "from sklearn.metrics import mean_squared_error, r2_score\n",
    "import matplotlib.pyplot as plt\n",
    "\n",
    "# 1. Charger les données\n",
    "data = pd.read_csv('puffins_data.csv')\n",
    "\n",
    "# 2. Définir les variables explicatives et cible\n",
    "X = data[['Latitude', 'Longitude', 'SST_Janvier', 'SST_Juin', 'Année']]\n",
    "y = data['Observations_Puffins']\n",
    "\n",
    "# 3. Diviser les données en train et test\n",
    "X_train, X_test, y_train, y_test = train_test_split(X, y, test_size=0.2, random_state=42)\n",
    "\n",
    "# 4. Initialiser et entraîner le modèle\n",
    "rf_model = RandomForestRegressor(n_estimators=100, random_state=42)\n",
    "rf_model.fit(X_train, y_train)\n",
    "\n",
    "# 5. Prédire et évaluer le modèle\n",
    "y_pred = rf_model.predict(X_test)\n",
    "rmse = mean_squared_error(y_test, y_pred, squared=False)\n",
    "r2 = r2_score(y_test, y_pred)\n",
    "\n",
    "print(f'RMSE: {rmse:.2f}')\n",
    "print(f'R²: {r2:.2f}')\n",
    "\n",
    "# 6. Analyser l'importance des variables\n",
    "importances = rf_model.feature_importances_\n",
    "features = X.columns\n",
    "\n",
    "plt.figure(figsize=(8, 6))\n",
    "plt.barh(features, importances)\n",
    "plt.xlabel('Importance')\n",
    "plt.ylabel('Variables')\n",
    "plt.title('Importance des variables dans le modèle Random Forest')\n",
    "plt.show()\n",
    "\n",
    "# 7. Prédictions futures\n",
    "new_data = pd.DataFrame({\n",
    "    'Latitude': [65.0, 66.5],\n",
    "    'Longitude': [-18.0, -17.5],\n",
    "    'SST_Janvier': [5.2, 4.8],\n",
    "    'SST_Juin': [8.1, 7.9],\n",
    "    'Année': [2015, 2016]\n",
    "})\n",
    "\n",
    "predictions = rf_model.predict(new_data)\n",
    "print(f'Prédictions : {predictions}')\n"
   ]
  }
 ],
 "metadata": {
  "kernelspec": {
   "display_name": "base",
   "language": "python",
   "name": "python3"
  },
  "language_info": {
   "codemirror_mode": {
    "name": "ipython",
    "version": 3
   },
   "file_extension": ".py",
   "mimetype": "text/x-python",
   "name": "python",
   "nbconvert_exporter": "python",
   "pygments_lexer": "ipython3",
   "version": "3.12.7"
  }
 },
 "nbformat": 4,
 "nbformat_minor": 2
}
