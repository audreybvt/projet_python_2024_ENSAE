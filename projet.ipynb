{
 "cells": [
  {
   "cell_type": "markdown",
   "metadata": {},
   "source": [
    "# Atlantic puffins"
   ]
  },
  {
   "cell_type": "markdown",
   "metadata": {},
   "source": [
    "# Gestion du bucket\n",
    "## import des packages"
   ]
  },
  {
   "cell_type": "code",
   "execution_count": null,
   "metadata": {},
   "outputs": [],
   "source": [
    "import s3fs\n",
    "import pandas as pd\n",
    "import geopandas as gpd\n"
   ]
  },
  {
   "cell_type": "markdown",
   "metadata": {},
   "source": [
    "## lecture des fichiers"
   ]
  },
  {
   "cell_type": "code",
   "execution_count": null,
   "metadata": {},
   "outputs": [],
   "source": [
    "glace_arctique = pd.read_csv(\"glace_arctique.csv\")\n",
    "\n",
    "glace_arctique.head()"
   ]
  },
  {
   "cell_type": "markdown",
   "metadata": {},
   "source": [
    "## liens d'accès au bucket"
   ]
  },
  {
   "cell_type": "code",
   "execution_count": null,
   "metadata": {},
   "outputs": [],
   "source": [
    "fs = s3fs.S3FileSystem(client_kwargs={\"endpoint_url\": \"https://minio.lab.sspcloud.fr\"})\n",
    "\n",
    "MY_BUCKET = \"abovet\"\n",
    "BUCKET_EVE = \"esam\"\n",
    "\n",
    "FILE_PATH_OUT_S3_EVE = f\"{BUCKET_EVE}/diffusion/eBird/ebd_atlpuf_relSep-2024.txt\"\n",
    "FILE_PATH_OUT_S3 = f\"{MY_BUCKET}/diffusion/glace_arctique.csv\"\n",
    "\n"
   ]
  },
  {
   "cell_type": "markdown",
   "metadata": {},
   "source": [
    "## Ecrire un fichier csv dans le bucket"
   ]
  },
  {
   "cell_type": "code",
   "execution_count": null,
   "metadata": {},
   "outputs": [],
   "source": [
    "with fs.open(FILE_PATH_OUT_S3, \"w\") as file_out:\n",
    "    glace_arctique.to_csv(file_out)"
   ]
  },
  {
   "cell_type": "markdown",
   "metadata": {},
   "source": [
    "## lire un fichier csv à partir du bucket"
   ]
  },
  {
   "cell_type": "code",
   "execution_count": null,
   "metadata": {},
   "outputs": [],
   "source": [
    "with fs.open(FILE_PATH_OUT_S3, \"r\") as file_in:\n",
    "    df_dpe = pd.read_csv(file_in)\n",
    "\n",
    "# Vérification\n",
    "df_dpe.head(2)\n",
    "\n",
    "#lecture du document du bucket d'eve\n",
    "with fs.open(FILE_PATH_OUT_S3_EVE, \"r\") as file_in:\n",
    "    df_eBird = pd.read_csv(file_in, sep=\"\\t\")\n",
    "\n",
    "print(df_eBird.head(2))"
   ]
  },
  {
   "cell_type": "markdown",
   "metadata": {},
   "source": [
    "## de même avec des dossiers"
   ]
  },
  {
   "cell_type": "code",
   "execution_count": null,
   "metadata": {},
   "outputs": [],
   "source": [
    "fs.put(\"zones_ornithologiques/\", f\"{MY_BUCKET}/diffusion/zones_ornithologiques/\", recursive=True)\n",
    "\n",
    "# Récupération des fichiers depuis MinIO vers la machine locale\n",
    "fs.get(f\"{MY_BUCKET}/diffusion/zones_ornithologiques/\", \"zones_ornithologiques2/\", recursive=True)\n",
    "\n",
    "df_zones = gpd.read_file(\"zones_ornithologiques2/\")\n",
    "df_zones.head(2)\n"
   ]
  }
 ],
 "metadata": {
  "kernelspec": {
   "display_name": "base",
   "language": "python",
   "name": "python3"
  },
  "language_info": {
   "name": "python",
   "version": "3.12.7"
  }
 },
 "nbformat": 4,
 "nbformat_minor": 2
}
