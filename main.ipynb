{
 "cells": [
  {
   "cell_type": "markdown",
   "metadata": {},
   "source": [
    "# 🐧 The Evolution of Puffin's Population Regarding Climate Change\n",
    "\n",
    "Welcome to the main Jupyter Notebook of our _Python project for Data Science_ ! \n",
    "Studying at the engineering school ENSAE, Institut Polytechnique de Paris, this project is part of the 2nd year course, under the supervision of Lino Galiana (Insee) and Romain Avouac (Insee). \n",
    "\n",
    "We share a passion for a clumsy but reaaaally cute seabird that is very common in Iceland : **the Atlantic puffin**. Unluckily, its demographic trend is downward. Well, it's not all by chance. Various high-qualited scientific studies have been carried out over the years to demonstrate the challenges facing this seabird species. Its biggest enemy to date is **climate change**, which is affecting its feeding (fish), reproduction and nesting. \n",
    "\n",
    "With this notebook, we set out to (re)demonstrate the causal link between global warming and the decline in the Atlantic puffin population. **The aim at the end of this page is to establish medium-term predictions for the evolution of this species, taking into account the different climate scenarios envisaged. Graphical visualization tools will support our modeling results.** \n",
    "\n",
    "Are you ready to see the disastrous consequences of climate change on such adorable birds? Let's get started! \n",
    "🐧🐧🐧🐧🐧🐧"
   ]
  },
  {
   "cell_type": "markdown",
   "metadata": {},
   "source": [
    "## 0.1 : Setting up the work environment \n",
    "\n",
    "- data access through the cloud MinIO Client (files are in the folder 'diffusion')\n",
    "- required packages \n",
    "- organizated environment "
   ]
  },
  {
   "cell_type": "code",
   "execution_count": 1,
   "metadata": {},
   "outputs": [],
   "source": [
    "import pandas as pd\n",
    "import s3fs\n",
    "import os\n",
    "\n",
    "# Geographical vizualisation packages\n",
    "import geopandas as gpd\n",
    "import matplotlib.pyplot as plt\n",
    "from shapely.geometry import Polygon, LineString, Point\n",
    "import matplotlib\n",
    "import contextily as ctx\n",
    "import folium\n",
    "from folium import LayerControl\n",
    "from IPython.display import display\n",
    "import webbrowser\n",
    "\n",
    "# Creation of two folders to centralize data and results\n",
    "data_dir = \"./data\"  \n",
    "os.makedirs(data_dir, exist_ok=True) \n",
    "results_dir = \"./results\"\n",
    "os.makedirs(results_dir, exist_ok=True)\n",
    "\n",
    "\n",
    "# Access information to the cloud MinIO Client (Eve's bucket)\n",
    "fs = s3fs.S3FileSystem(client_kwargs={\"endpoint_url\": \"https://minio.lab.sspcloud.fr\"})\n",
    "MY_BUCKET = \"esam\""
   ]
  },
  {
   "cell_type": "markdown",
   "metadata": {},
   "source": [
    "## xx : Map visualization of Atlantic puffin distribution worldwide \n",
    "\n",
    "The Atlantic puffin is a migratory bird of the North Atlantic and Arctic polar zones. BirdLife International's data enable us to visualize the presence of these birds across the globe. "
   ]
  },
  {
   "cell_type": "markdown",
   "metadata": {},
   "source": [
    "### 2.1 MinIO Client cloud data retrieval and overview\n",
    "\n",
    "_Nota bene : Having encountered difficulties working with files directly in S3 streams (shapefile, .nc, etc.), it is preferable to download files directly from the MinIO Client locally, to ensure optimal operation of the pandas and geopandas ecosystems, which is what the following program does._ "
   ]
  },
  {
   "cell_type": "code",
   "execution_count": 3,
   "metadata": {},
   "outputs": [],
   "source": [
    "# Creation of a subfolder to store Shapefile files and downloading of needed files\n",
    "local_shapefile_subfolder = os.path.join(data_dir, \"local_shapefile_files\")\n",
    "os.makedirs(local_shapefile_subfolder, exist_ok=True)\n",
    "\n",
    "shapefile_elements = [\"F_arctica.shp\", \"F_arctica.shx\", \"F_arctica.dbf\"]\n",
    "for element in shapefile_elements:\n",
    "    remote_path = f\"{MY_BUCKET}/diffusion/puffin_data/{element}\"\n",
    "    local_path = os.path.join(local_shapefile_subfolder, element)\n",
    "    with fs.open(remote_path, \"rb\") as remote_file:\n",
    "        with open(local_path, \"wb\") as local_file:\n",
    "            local_file.write(remote_file.read())\n",
    "\n",
    "# Lecture of the main shapefile file\n",
    "local_shapefile_path = os.path.join(local_shapefile_subfolder, \"F_arctica.shp\")\n",
    "gdf = gpd.read_file(local_shapefile_path)"
   ]
  },
  {
   "cell_type": "markdown",
   "metadata": {},
   "source": [
    "### 2.2 Preparing files for graphical display\n",
    "\n",
    "Geographic data and geometries must be correctly parameterized to be correctly displayed on a map.\n",
    "The 'Coordinate Reference System' (CRS) EPSG:4326 displays geographic coordinates based on longitude and latitude. Its main uses are : \n",
    "- satellite data \n",
    "- global cartography \n",
    "- geographic data reference system"
   ]
  },
  {
   "cell_type": "code",
   "execution_count": 8,
   "metadata": {},
   "outputs": [
    {
     "name": "stdout",
     "output_type": "stream",
     "text": [
      "Geometries have been simplified.\n",
      "Number of invalided geometries before correction : 0\n"
     ]
    }
   ],
   "source": [
    "# Correction of the CRS to obtain the correct lecture of geographic coordinates\n",
    "if gdf.crs != \"EPSG:4326\":\n",
    "    print(\"The initial CRS is :\", gdf.crs)\n",
    "    gdf = gdf.set_crs(epsg=4326)\n",
    "    print(\"The CRS has been redefined as EPSG:4326.\")\n",
    "\n",
    "# Simplification of the geometries\n",
    "#if len(gdf) > 1000:  # Par exemple, pour les fichiers volumineux\n",
    "gdf[\"geometry\"] = gdf[\"geometry\"].simplify(tolerance=0.01)\n",
    "print(\"Geometries have been simplified.\")\n",
    "\n",
    "# Conversion to 2D geometries\n",
    "def convert_to_2d(geom):\n",
    "    if geom is not None and geom.has_z:\n",
    "        return geom.simplify(0)  # Suppression de la dimension Z\n",
    "    return geom\n",
    "\n",
    "gdf[\"geometry\"] = gdf[\"geometry\"].apply(convert_to_2d)\n",
    "\n",
    "# Checking of validated geometries\n",
    "invalid_count = (~gdf.is_valid).sum()\n",
    "print(f\"Number of invalided geometries before correction : {invalid_count}\")\n",
    "\n",
    "# Correction of invalided geometries\n",
    "if invalid_count > 0:\n",
    "    gdf[\"geometry\"] = gdf[\"geometry\"].buffer(0)"
   ]
  },
  {
   "cell_type": "markdown",
   "metadata": {},
   "source": [
    "### 2.3 Creation of a reactive folium map to visualize the worldwide presence of Atlantic puffins.\n",
    "\n",
    "The Atlantic puffin lives on the high seas all year round, but returns to land when it breeds. This map shows the areas of non-breeding and breeding of the species, using reference data from BirdLife International.\n",
    "\n",
    "The detailed puffin observation databases we use are established in breeding areas. "
   ]
  },
  {
   "cell_type": "code",
   "execution_count": null,
   "metadata": {},
   "outputs": [
    {
     "data": {
      "text/plain": [
       "<folium.features.GeoJson at 0x7f1f9dac0320>"
      ]
     },
     "execution_count": 9,
     "metadata": {},
     "output_type": "execute_result"
    }
   ],
   "source": [
    "# Definition of both layers to display on the map\n",
    "breeding_zones = gdf[gdf[\"seasonal\"] == 2]\n",
    "non_breeding_zones = gdf[gdf[\"seasonal\"] == 3]\n",
    "\n",
    "\n",
    "# Creation of the Folium map and its layers \n",
    "m = folium.Map(location=[55, 0], zoom_start=3, tiles=\"CartoDB Positron\")\n",
    "\n",
    "def create_folium_layer(gdf, name, color):\n",
    "    \"\"\"Create a GeoJSON layer for a given GeoDataFrame.\"\"\"\n",
    "    return folium.GeoJson(\n",
    "        gdf,\n",
    "        name=name,\n",
    "        tooltip=folium.GeoJsonTooltip(\n",
    "            fields=[\"sci_name\", \"presence\", \"seasonal\"], \n",
    "            aliases=[\"Scientific name\", \"Presence\", \"Seasonal\"], \n",
    "            localize=True,\n",
    "        ),\n",
    "        style_function=lambda feature: {\n",
    "            'fillColor': color,\n",
    "            'color': 'black',\n",
    "            'weight': 1,\n",
    "            'fillOpacity': 0.5,\n",
    "        },\n",
    "    )\n",
    "    \"\"\"Function to create layer for the map\"\"\"\n",
    "\n",
    "breeding_layer = create_folium_layer(breeding_zones, \"Breeding zones\", \"green\")\n",
    "non_breeding_layer = create_folium_layer(non_breeding_zones, \"Non-breeding zones\", \"lime\")\n",
    "\n",
    "breeding_layer.add_to(m)\n",
    "non_breeding_layer.add_to(m)\n"
   ]
  },
  {
   "cell_type": "markdown",
   "metadata": {},
   "source": [
    "### 2.4 Display of the folium map\n",
    "\n",
    "Two options are possible : \n",
    "- display the folium map in the Notebook \n",
    "    * concentrates all results in this single notebook \n",
    "    * considerably heavier\n",
    "- generate a HTML link for the folder ./results and generate a local server from the terminal to open a web page "
   ]
  },
  {
   "cell_type": "code",
   "execution_count": null,
   "metadata": {},
   "outputs": [],
   "source": [
    "# 1st option : Displaying the map in the notebook \n",
    "display(m)"
   ]
  },
  {
   "cell_type": "code",
   "execution_count": 13,
   "metadata": {},
   "outputs": [
    {
     "name": "stdout",
     "output_type": "stream",
     "text": [
      "/home/onyxia/work/projet_python_2024_ENSAE/results\n"
     ]
    },
    {
     "data": {
      "text/plain": [
       "' Then, copy cell output and enter in the bash : \\ncd <absolute path you just copy> python -m http.server 8000\\n\\nA new web page should open. All you have to do is select the \"puffin_distribution_map\" ! '"
      ]
     },
     "execution_count": 13,
     "metadata": {},
     "output_type": "execute_result"
    }
   ],
   "source": [
    "# 2nd option : HTML Link \n",
    "\n",
    "m.save(\"./results/puffin_distribution_map.html\")\n",
    "print(f\"{os.path.abspath('./results')}\")\n",
    "\n",
    "\"\"\" Then, copy cell output and enter in the bash : \n",
    "cd <absolute path you just copy> python -m http.server 8000\n",
    "\n",
    "A new web page should open. All you have to do is select the \"puffin_distribution_map\" ! \"\"\""
   ]
  },
  {
   "cell_type": "markdown",
   "metadata": {},
   "source": [
    "### About local server  \n",
    "A **local server** is a web server environment that runs solely on your computer. It uses your machine as a “server” to deliver files, HTML content or web applications to a browser via a local URL (such as http://localhost:8000).\n",
    "- localhost: A special address that refers to your own machine. \n",
    "- Port: A number used to distinguish different services on your machine. By default, a local server often uses port 8000 or 8080.\n",
    "\n",
    "_Step 1: Launch a local server_\n",
    "- Open a terminal and navigate to the directory containing your files.\n",
    "- Run the following command:\n",
    "    _python -m http.server 8000_\n",
    "\n",
    "_Step 2: Access the server in a browser_\n",
    "- Open a browser.\n",
    "- Go to http://localhost:8000.\n",
    "You'll see the files in the directory as if you were browsing a website.\n",
    "\n",
    "Other informations:\n",
    "- Limited access: here, the local server is only accessible from your own machine.\n",
    "- Stop server: to stop it, press Ctrl+C in the terminal.\n",
    "- Applications : web development (test sites or applications locally before deploying them online), data visualization (serve files such as Folium maps or interactive graphic). "
   ]
  }
 ],
 "metadata": {
  "kernelspec": {
   "display_name": "base",
   "language": "python",
   "name": "python3"
  },
  "language_info": {
   "codemirror_mode": {
    "name": "ipython",
    "version": 3
   },
   "file_extension": ".py",
   "mimetype": "text/x-python",
   "name": "python",
   "nbconvert_exporter": "python",
   "pygments_lexer": "ipython3",
   "version": "3.12.7"
  }
 },
 "nbformat": 4,
 "nbformat_minor": 2
}
