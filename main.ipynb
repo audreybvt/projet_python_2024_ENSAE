{
 "cells": [
  {
   "cell_type": "markdown",
   "metadata": {},
   "source": [
    "# 🐧 The Evolution of Puffin's Population Regarding Climate Change\n",
    "\n",
    "Welcome to the main Jupyter Notebook of our _Python project for Data Science_ ! \n",
    "Studying at the engineering school ENSAE, Institut Polytechnique de Paris, this project is part of the 2nd year course, under the supervision of Lino Galiana (Insee) and Romain Avouac (Insee). \n",
    "\n",
    "We share a passion for a clumsy but reaaaally cute seabird that is very common in Iceland : **the Atlantic puffin**. Unluckily, its demographic trend is downward. Well, it's not all by chance. Various high-qualited scientific studies have been carried out over the years to demonstrate the challenges facing this seabird species. Its biggest enemy to date is **climate change**, which is affecting its feeding (fish), reproduction and nesting. \n",
    "\n",
    "With this notebook, we set out to (re)demonstrate the causal link between global warming and the decline in the Atlantic puffin population. **The aim at the end of this page is to establish medium-term predictions for the evolution of this species, taking into account the different climate scenarios envisaged. Graphical visualization tools will support our modeling results.** \n",
    "\n",
    "Are you ready to see the disastrous consequences of climate change on such adorable birds? Let's get started! \n",
    "🐧🐧🐧🐧🐧🐧"
   ]
  },
  {
   "cell_type": "markdown",
   "metadata": {},
   "source": [
    "## 0.1 : Setting up the work environment \n",
    "\n",
    "- data access through the cloud MinIO Client (files are in the folder 'diffusion')\n",
    "- required packages \n",
    "- organizated environment "
   ]
  },
  {
   "cell_type": "code",
   "execution_count": null,
   "metadata": {},
   "outputs": [],
   "source": [
    "import cdsapi\n",
    "import pandas as pd\n",
    "import s3fs\n",
    "import zipfile\n",
    "import xarray as xr\n",
    "import dotenv\n",
    "import os\n",
    "\n",
    "\n",
    "# Creation of a folder to centralize data \n",
    "data_dir = \"./data\"  \n",
    "os.makedirs(data_dir, exist_ok=True) \n",
    "\n",
    "# Creation of a folder into ./data for extracted files\n",
    "temp_dir = os.path.join(data_dir, \"extracted_files\") # Sous-dossier d'extraction des fichiers zip\n",
    "os.makedirs(temp_dir, exist_ok=True)  # Crée le dossier d'extraction\n",
    "\n",
    "\n",
    "# Access information to the cloud MinIO Client (Eve's bucket)\n",
    "fs = s3fs.S3FileSystem(client_kwargs={\"endpoint_url\": \"https://minio.lab.sspcloud.fr\"})\n",
    "MY_BUCKET = \"esam\"\n",
    "print(fs.ls(MY_BUCKET))"
   ]
  }
 ],
 "metadata": {
  "kernelspec": {
   "display_name": "base",
   "language": "python",
   "name": "python3"
  },
  "language_info": {
   "name": "python",
   "version": "3.12.7"
  }
 },
 "nbformat": 4,
 "nbformat_minor": 2
}
