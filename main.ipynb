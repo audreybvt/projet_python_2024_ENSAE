{
 "cells": [
  {
   "cell_type": "markdown",
   "metadata": {},
   "source": [
    "# The evolution of puffin's population regarding climate change\n",
    "\n"
   ]
  },
  {
   "cell_type": "markdown",
   "metadata": {},
   "source": [
    "## 0.1 : Setting up the work environment \n",
    "\n",
    "- data access through the cloud MinIO Client (files are in the folder 'diffusion')\n",
    "- required packages \n",
    "- organizated environment "
   ]
  },
  {
   "cell_type": "code",
   "execution_count": null,
   "metadata": {},
   "outputs": [],
   "source": [
    "import cdsapi\n",
    "import pandas as pd\n",
    "import s3fs\n",
    "import zipfile\n",
    "import xarray as xr\n",
    "import dotenv\n",
    "import os\n",
    "\n",
    "\n",
    "# Creation of a folder to centralize data \n",
    "data_dir = \"./data\"  \n",
    "os.makedirs(data_dir, exist_ok=True) \n",
    "\n",
    "# Creation of a folder into ./data for extracted files\n",
    "temp_dir = os.path.join(data_dir, \"extracted_files\") # Sous-dossier d'extraction des fichiers zip\n",
    "os.makedirs(temp_dir, exist_ok=True)  # Crée le dossier d'extraction\n",
    "\n",
    "\n",
    "# Access information to the cloud MinIO Client (Eve's bucket)\n",
    "fs = s3fs.S3FileSystem(client_kwargs={\"endpoint_url\": \"https://minio.lab.sspcloud.fr\"})\n",
    "MY_BUCKET = \"esam\"\n",
    "print(fs.ls(MY_BUCKET))"
   ]
  }
 ],
 "metadata": {
  "kernelspec": {
   "display_name": "base",
   "language": "python",
   "name": "python3"
  },
  "language_info": {
   "name": "python",
   "version": "3.12.7"
  }
 },
 "nbformat": 4,
 "nbformat_minor": 2
}
